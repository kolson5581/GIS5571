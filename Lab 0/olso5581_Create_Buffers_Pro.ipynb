{
 "cells": [
  {
   "cell_type": "markdown",
   "metadata": {},
   "source": [
    "# Import ArcPy"
   ]
  },
  {
   "cell_type": "code",
   "execution_count": 1,
   "metadata": {},
   "outputs": [],
   "source": [
    "import arcpy"
   ]
  },
  {
   "cell_type": "markdown",
   "metadata": {},
   "source": [
    "#Use Arcpy function to create buffers"
   ]
  },
  {
   "cell_type": "code",
   "execution_count": 4,
   "metadata": {},
   "outputs": [
    {
     "data": {
      "text/html": [
       "<div class='gpresult'><h2>Messages</h2><div id='messages'>Start Time: Tuesday, September 10, 2024 1:28:36 PM<br>Succeeded at Tuesday, September 10, 2024 1:28:41 PM (Elapsed Time: 5.60 seconds)<br></div><div id = 'default' /></div></div>"
      ],
      "text/plain": [
       "<Result 'C:\\\\Users\\\\KOlso\\\\Documents\\\\ArcGIS\\\\Projects\\\\Lab 0\\\\Lab 0.gdb\\\\ArcPro_Notebook_Buffers_Dissolve'>"
      ]
     },
     "execution_count": 4,
     "metadata": {},
     "output_type": "execute_result"
    }
   ],
   "source": [
    "#Runs the arcpy buffer function and does not dissolve the polygons\n",
    "#arcpy.analysis.Buffer(\"Lake_co_road_centerlines\", \"ArcPro_Notebook_Buffers\", \".5 MILES\") \n",
    "\n",
    "#Runs the arcpy buffer function and dissolves the buffer polygons\n",
    "arcpy.analysis.Buffer(\"Lake_co_road_centerlines\", \"ArcPro_Notebook_Buffers_Dissolve\", \".5 MILES\", dissolve_option=\"ALL\")"
   ]
  },
  {
   "cell_type": "code",
   "execution_count": null,
   "metadata": {},
   "outputs": [],
   "source": []
  }
 ],
 "metadata": {
  "kernelspec": {
   "display_name": "ArcGISPro",
   "language": "Python",
   "name": "python3"
  },
  "language_info": {
   "file_extension": ".py",
   "name": "python",
   "version": "3"
  }
 },
 "nbformat": 4,
 "nbformat_minor": 2
}
