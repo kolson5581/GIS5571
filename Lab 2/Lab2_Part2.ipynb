{
 "cells": [
  {
   "cell_type": "code",
   "execution_count": 95,
   "metadata": {},
   "outputs": [],
   "source": [
    "import arcpy\n",
    "import requests\n",
    "import io\n",
    "import os\n",
    "import zipfile"
   ]
  },
  {
   "cell_type": "markdown",
   "metadata": {},
   "source": [
    "## Set filepaths - users will need to change data_path variable to a local file location"
   ]
  },
  {
   "cell_type": "code",
   "execution_count": 96,
   "metadata": {},
   "outputs": [],
   "source": [
    "#data_path points all other paths to the right folder - I'm using and ArcGIS Pro project folder but any folder should work\n",
    "data_path = r\"C:\\Users\\KOlso\\Documents\\ArcGIS\\Projects\\GIS5571_Lab2\"\n",
    "gdb_path = os.path.join(data_path, \"GIS5571_Lab2.gdb\")\n",
    "\n",
    "#set urls for data sources\n",
    "lc_url = r\"https://resources.gisdata.mn.gov/pub/gdrs/data/pub/edu_umn/base_landcover_minnesota/tif_base_landcover_minnesota.zip\"\n",
    "dem_url = r\"https://resources.gisdata.mn.gov/pub/gdrs/data/pub/us_mn_state_dnr/elev_30m_digital_elevation_model/fgdb_elev_30m_digital_elevation_model.zip\"\n",
    "\n",
    "lc_res = requests.get(lc_url)\n",
    "dem_res = requests.get(dem_url)\n",
    "\n",
    "dem_path = os.path.join(data_path, \"fgdb_elev_30m_digital_elevation_model.zip\")\n",
    "lc_path = os.path.join(data_path, \"tif_base_landcover_minnesota.zip\")"
   ]
  },
  {
   "cell_type": "code",
   "execution_count": 97,
   "metadata": {},
   "outputs": [],
   "source": [
    "#save data to file\n",
    "with open(dem_path, 'wb') as f:\n",
    "    f.write(dem_res.content)\n",
    "    \n",
    "with open(lc_path, 'wb') as f:\n",
    "    f.write(lc_res.content)"
   ]
  },
  {
   "cell_type": "code",
   "execution_count": 98,
   "metadata": {},
   "outputs": [],
   "source": [
    "#set unzip paths\n",
    "dem_unzip = os.path.join(data_path, \"30m_dem\")\n",
    "lc_unzip = os.path.join(data_path, \"tif_lc\")\n",
    "\n",
    "#unzip both datasets\n",
    "with zipfile.ZipFile(dem_path, 'r') as zip_ref:\n",
    "    zip_ref.extractall(dem_unzip)\n",
    "    \n",
    "with zipfile.ZipFile(lc_path, 'r') as zip_ref:\n",
    "    zip_ref.extractall(lc_unzip)\n",
    "    \n"
   ]
  },
  {
   "cell_type": "code",
   "execution_count": 99,
   "metadata": {},
   "outputs": [
    {
     "data": {
      "text/html": [
       "<div class='gpresult'><h2>Messages</h2><div id='messages'>Start Time: Tuesday, October 29, 2024 12:33:37 AM<br>Succeeded at Tuesday, October 29, 2024 12:33:38 AM (Elapsed Time: 0.94 seconds)<br></div><div id = 'default' /></div></div>"
      ],
      "text/plain": [
       "<Result 'C:\\\\Users\\\\KOlso\\\\Documents\\\\ArcGIS\\\\Projects\\\\GIS5571_Lab2\\\\GIS5571_Lab2.gdb\\\\start_end_pts_buffer'>"
      ]
     },
     "execution_count": 99,
     "metadata": {},
     "output_type": "execute_result"
    }
   ],
   "source": [
    "#I'm going to give Dory 3 miles around the start and ending points as potential places to travel - so first I'll create buffers\n",
    "\n",
    "arcpy.analysis.PairwiseBuffer(\n",
    "    in_features=\"start_end_pts\",\n",
    "    out_feature_class= os.path.join(gdb_path, \"start_end_pts_buffer\"),\n",
    "    buffer_distance_or_field=\"3 Miles\",\n",
    "    dissolve_option=\"ALL\",\n",
    "    dissolve_field=None,\n",
    "    method=\"PLANAR\",\n",
    "    max_deviation=\"0 Meters\"\n",
    ")"
   ]
  },
  {
   "cell_type": "code",
   "execution_count": 103,
   "metadata": {},
   "outputs": [],
   "source": [
    "#I'll then get the extent of those buffers to use as a parameter for defining the study area\n",
    "extent = arcpy.Describe(os.path.join(gdb_path, \"start_end_pts_buffer\")).extent\n",
    "\n",
    "#use that extent with the extract by rectangle tool to get my clipped dem\n",
    "with arcpy.EnvManager(scratchWorkspace= gdb_path):\n",
    "    clipped_dem = arcpy.sa.ExtractByRectangle(\n",
    "        in_raster= os.path.join(dem_unzip, \"elev_30m_digital_elevation_model.gdb\\digital_elevation_model_30m\"),\n",
    "        extent= extent,\n",
    "        extraction_area=\"INSIDE\"\n",
    "    )\n",
    "    clipped_dem.save(os.path.join(gdb_path, \"clipped_dem\"))\n",
    "    \n",
    "#use that same extent to get a clipped land use raster too\n",
    "with arcpy.EnvManager(scratchWorkspace= gdb_path):\n",
    "    clipped_lc = arcpy.sa.ExtractByRectangle(\n",
    "        in_raster= os.path.join(lc_unzip, \"landcover_impervious_statewide2013_v2.tif\"),\n",
    "        extent= extent,\n",
    "        extraction_area=\"INSIDE\"\n",
    "    )\n",
    "    clipped_lc.save(os.path.join(gdb_path, \"clipped_lc\"))"
   ]
  },
  {
   "cell_type": "code",
   "execution_count": 104,
   "metadata": {},
   "outputs": [
    {
     "data": {
      "text/html": [
       "<div class='gpresult'><h2>Messages</h2><div id='messages'>Start Time: Tuesday, October 29, 2024 12:37:49 AM<br>WARNING 010453: The GPU being used is connected to your display. This may cause the computer to appear unresponsive. The display driver may reboot the GPU if the computation takes too long.<br>Succeeded at Tuesday, October 29, 2024 12:37:56 AM (Elapsed Time: 7.04 seconds)<br></div><div id = 'default' /></div></div>"
      ],
      "text/plain": [
       "<Result 'C:\\\\Users\\\\KOlso\\\\Documents\\\\ArcGIS\\\\Projects\\\\GIS5571_Lab2\\\\GIS5571_Lab2.gdb\\\\slope_surface'>"
      ]
     },
     "execution_count": 104,
     "metadata": {},
     "output_type": "execute_result"
    }
   ],
   "source": [
    "#run slope tool to convert dem to slope\n",
    "arcpy.ddd.Slope(\n",
    "    in_raster=\"clipped_dem\",\n",
    "    out_raster= os.path.join(gdb_path, \"slope_surface\"),\n",
    "    output_measurement=\"DEGREE\",\n",
    "    z_factor=1,\n",
    ")"
   ]
  },
  {
   "cell_type": "code",
   "execution_count": 105,
   "metadata": {},
   "outputs": [
    {
     "data": {
      "text/html": [
       "<div class='gpresult'><h2>Messages</h2><div id='messages'>Start Time: Tuesday, October 29, 2024 12:38:38 AM<br>Building Pyramids...<br>Succeeded at Tuesday, October 29, 2024 12:38:54 AM (Elapsed Time: 16.44 seconds)<br></div><div id = 'default' /></div></div>"
      ],
      "text/plain": [
       "<Result 'C:\\\\Users\\\\KOlso\\\\Documents\\\\ArcGIS\\\\Projects\\\\GIS5571_Lab2\\\\GIS5571_Lab2.gdb\\\\resample_slope'>"
      ]
     },
     "execution_count": 105,
     "metadata": {},
     "output_type": "execute_result"
    }
   ],
   "source": [
    "#Next I'm going to resample the dem so it has the same spatial resolution as the land cover raster\n",
    "arcpy.management.Resample(\n",
    "    in_raster=\"slope_surface\",\n",
    "    out_raster= os.path.join(gdb_path, \"resample_slope\"),\n",
    "    cell_size=\"15 15\",\n",
    "    resampling_type=\"BILINEAR\"\n",
    ")"
   ]
  },
  {
   "cell_type": "code",
   "execution_count": 106,
   "metadata": {},
   "outputs": [],
   "source": [
    "#Next, we resample the rasters and assign values based on slope and landclass that will represent the cost to cross these pixels\n",
    "\n",
    "#Slope - heavily favors lightly sloped land\n",
    "reclass_slope = arcpy.ddd.Reclassify(\n",
    "    in_raster=\"resample_slope\",\n",
    "    reclass_field=\"VALUE\",\n",
    "    remap=\"0 3 1;3 6 2;6 10 3;10 20 4;20 90 5\",\n",
    "    out_raster= os.path.join(gdb_path, \"Reclass_slope\"),\n",
    "    missing_values=\"DATA\"\n",
    ")\n",
    "\n",
    "\n",
    "#Land use - we know Dory doesn't like crossing farm fields, so those categories get a 5 value\n",
    "#She also doesn't like crossing water if she can help it so open water and wetlands get classed 4\n",
    "#urbanized areas and roadways, managed grass, and forested areas get 1, 2 and 3 values, respectively\n",
    "reclass_lc = arcpy.ddd.Reclassify(\n",
    "    in_raster=\"clipped_lc\",\n",
    "    reclass_field=\"Value\",\n",
    "    remap=\"1 100 1;101 102 3;103 4;104 107 2;108 2;109 110 5\",\n",
    "    out_raster= os.path.join(gdb_path, \"Reclass_lc\"),\n",
    "    missing_values=\"DATA\"\n",
    ")"
   ]
  },
  {
   "cell_type": "code",
   "execution_count": 108,
   "metadata": {},
   "outputs": [
    {
     "name": "stdout",
     "output_type": "stream",
     "text": [
      "Output raster saved at C:\\Users\\KOlso\\Documents\\ArcGIS\\Projects\\GIS5571_Lab2\\GIS5571_Lab2.gdb\\wcs_lc30_sl70\n",
      "Output raster saved at C:\\Users\\KOlso\\Documents\\ArcGIS\\Projects\\GIS5571_Lab2\\GIS5571_Lab2.gdb\\wcs_lc50_sl50\n",
      "Output raster saved at C:\\Users\\KOlso\\Documents\\ArcGIS\\Projects\\GIS5571_Lab2\\GIS5571_Lab2.gdb\\wcs_lc70_sl30\n",
      "Created weighted cost surface names: ['wcs_lc30_sl70', 'wcs_lc50_sl50', 'wcs_lc70_sl30']\n"
     ]
    }
   ],
   "source": [
    "#define list of weights for first raster (initially I had five weights but it was just taking a long time so I did 3 instead)\n",
    "weights = [.3, .5, .7]\n",
    "#define empty list of weighted cost surface names to go in - we'll use this in the next step to generate cost paths\n",
    "wcs_list = []\n",
    "\n",
    "#redefine reclassed variables from above as rasters so we can do raster algebra to them\n",
    "reclass_lc = arcpy.Raster(reclass_lc)\n",
    "reclass_slope = arcpy.Raster(reclass_slope)\n",
    "\n",
    "#for loop to create a new weighted cost surface for each of the weighting schemes \n",
    "for weight in weights:\n",
    "    # Define the output path, including the weight values in the filenames\n",
    "    wcs_name = f\"wcs_lc{int(weight * 100)}_sl{int((1-weight)*100)}\"\n",
    "    output_path =  os.path.join(gdb_path, f\"{wcs_name}\")\n",
    "    \n",
    "    # Perform the raster calculation\n",
    "    wcs = (weight * reclass_lc) + ((1 - weight) * reclass_slope)\n",
    "    \n",
    "    # Save the output raster with the unique name\n",
    "    wcs.save(output_path)\n",
    "    \n",
    "    # Add the raster name to the list\n",
    "    wcs_list.append(wcs_name)\n",
    "    \n",
    "    print(f\"Output raster saved at {output_path}\")\n",
    "\n",
    "# Print the list of raster names\n",
    "print(\"Created weighted cost surface names:\", wcs_list)"
   ]
  },
  {
   "cell_type": "code",
   "execution_count": 109,
   "metadata": {},
   "outputs": [
    {
     "name": "stdout",
     "output_type": "stream",
     "text": [
      "wcs_lc30_sl70 optimal route complete. Saved at C:\\Users\\KOlso\\Documents\\ArcGIS\\Projects\\GIS5571_Lab2\\GIS5571_Lab2.gdb\\Optimal_wcs_lc30_sl70\n",
      "wcs_lc50_sl50 optimal route complete. Saved at C:\\Users\\KOlso\\Documents\\ArcGIS\\Projects\\GIS5571_Lab2\\GIS5571_Lab2.gdb\\Optimal_wcs_lc50_sl50\n",
      "wcs_lc70_sl30 optimal route complete. Saved at C:\\Users\\KOlso\\Documents\\ArcGIS\\Projects\\GIS5571_Lab2\\GIS5571_Lab2.gdb\\Optimal_wcs_lc70_sl30\n"
     ]
    }
   ],
   "source": [
    "for wcs_name in wcs_list:\n",
    "    # Define the output feature class path, incorporating the raster name to make it unique\n",
    "    out_line = f\"{gdb_path}\\\\Optimal_{wcs_name}\"\n",
    "    \n",
    "    # Run the OptimalRegionConnections tool with the current raster as the cost raster\n",
    "    arcpy.sa.OptimalRegionConnections(\n",
    "        in_regions=\"start_end_pts\",\n",
    "        out_feature_class= out_line,\n",
    "        in_barrier_data=None,\n",
    "        in_cost_raster=wcs_name,\n",
    "        out_neighbor_paths=None,\n",
    "        distance_method=\"PLANAR\",\n",
    "        connections_within_regions=\"GENERATE_CONNECTIONS\"\n",
    "    )\n",
    "    \n",
    "    print(f\"{wcs_name} optimal route complete. Saved at {out_line}\")"
   ]
  },
  {
   "cell_type": "code",
   "execution_count": null,
   "metadata": {},
   "outputs": [],
   "source": []
  }
 ],
 "metadata": {
  "kernelspec": {
   "display_name": "ArcGISPro",
   "language": "Python",
   "name": "python3"
  },
  "language_info": {
   "file_extension": ".py",
   "name": "python",
   "version": "3"
  }
 },
 "nbformat": 4,
 "nbformat_minor": 2
}
