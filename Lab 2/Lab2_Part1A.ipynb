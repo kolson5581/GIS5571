{
 "cells": [
  {
   "cell_type": "code",
   "execution_count": 3,
   "metadata": {},
   "outputs": [],
   "source": [
    "from arcgis.gis import GIS\n",
    "gis = GIS(\"home\")"
   ]
  },
  {
   "cell_type": "code",
   "execution_count": 4,
   "metadata": {},
   "outputs": [],
   "source": [
    "import arcpy\n",
    "import requests\n",
    "import io\n",
    "import os\n",
    "\n"
   ]
  },
  {
   "cell_type": "markdown",
   "metadata": {},
   "source": [
    "## Part 1A - Convert .las to DEM and TIN\n",
    "\n",
    "### Set file paths"
   ]
  },
  {
   "cell_type": "code",
   "execution_count": 5,
   "metadata": {},
   "outputs": [],
   "source": [
    "#set file paths for Part 1 of lab\n",
    "\n",
    "#probably need to reset this when switching from home desktop to laptop\n",
    "#laptop\n",
    "gdb_folder = r\"C:\\Users\\KOlso\\OneDrive\\Documents\\ArcGIS\\Projects\\GIS5571_Lab2\\GIS5571_Lab2.gdb\"\n",
    "data_path = r\"C:\\Users\\KOlso\\OneDrive\\Documents\\ArcGIS\\Projects\\GIS5571_Lab2\"\n",
    "\n",
    "#desktop:\n",
    "#gdb_path = r\"C:\\Users\\KOlso\\Documents\\ArcGIS\\Projects\\GIS5571_Lab2\\GIS5571_Lab2.gdb\"\n",
    "#data_path = r\"C:\\Users\\KOlso\\Documents\\ArcGIS\\Projects\\GIS5571_Lab2\"\n",
    "las_path = os.path.join(data_path, \"DNR_example.las\")\n",
    "\n"
   ]
  },
  {
   "cell_type": "markdown",
   "metadata": {},
   "source": [
    "### Create las file to"
   ]
  },
  {
   "cell_type": "code",
   "execution_count": 6,
   "metadata": {},
   "outputs": [],
   "source": [
    "#set url for las download, request\n",
    "las_url = \"https://resources.gisdata.mn.gov/pub/data/elevation/lidar/examples/lidar_sample/las/4342-13-04.las\"\n",
    "las_res = requests.get(las_url)\n",
    "\n",
    "#write to file - no need to zip for small example file\n",
    "with open(las_path, \"wb\") as f:\n",
    "    f.write(las_res.content)"
   ]
  },
  {
   "cell_type": "code",
   "execution_count": 7,
   "metadata": {},
   "outputs": [
    {
     "data": {
      "text/html": [
       "<div class='gpresult'><h2>Messages</h2><div id='messages'>Start Time: Tuesday, October 22, 2024 1:28:41 PM<br>Succeeded at Tuesday, October 22, 2024 1:28:56 PM (Elapsed Time: 14.68 seconds)<br></div><div id = 'default' /></div></div>"
      ],
      "text/plain": [
       "<Result 'C:\\\\Users\\\\KOlso\\\\OneDrive\\\\Documents\\\\ArcGIS\\\\Projects\\\\GIS5571_Lab2\\\\DNR_example_TIN'>"
      ]
     },
     "execution_count": 7,
     "metadata": {},
     "output_type": "execute_result"
    }
   ],
   "source": [
    "#convert las to TIN with las dataset to TIN tool - too large to do so without thinning\n",
    "\n",
    "TIN_path = os.path.join(data_path, \"DNR_example_TIN\")\n",
    "\n",
    "arcpy.ddd.LasDatasetToTin(\n",
    "    in_las_dataset= las_path,\n",
    "    out_tin= TIN_path,\n",
    "    thinning_type=\"RANDOM\",\n",
    "    thinning_method=\"PERCENT\",\n",
    "    thinning_value=10,\n",
    "    max_nodes=5000000,\n",
    "    z_factor=1,\n",
    "    clip_to_extent=\"CLIP\"\n",
    ")"
   ]
  },
  {
   "cell_type": "code",
   "execution_count": 12,
   "metadata": {},
   "outputs": [
    {
     "data": {
      "text/html": [
       "<div class='gpresult'><h2>Messages</h2><div id='messages'>Start Time: Tuesday, October 22, 2024 1:33:25 PM<br>Succeeded at Tuesday, October 22, 2024 1:33:37 PM (Elapsed Time: 11.92 seconds)<br></div><div id = 'default' /></div></div>"
      ],
      "text/plain": [
       "<Result 'C:\\\\Users\\\\KOlso\\\\OneDrive\\\\Documents\\\\ArcGIS\\\\Projects\\\\GIS5571_Lab2\\\\GIS5571_Lab2.gdb\\\\DNR_example_DEM'>"
      ]
     },
     "execution_count": 12,
     "metadata": {},
     "output_type": "execute_result"
    }
   ],
   "source": [
    "#Convert las to DEM with las dataset to raster tool - DEM is just a raster showing elevation\n",
    "\n",
    "DEM_path = os.path.join(gdb_folder, \"DNR_example_DEM\")\n",
    "\n",
    "arcpy.conversion.LasDatasetToRaster(\n",
    "    in_las_dataset= las_path,\n",
    "    out_raster= DEM_path,\n",
    "    value_field=\"ELEVATION\",\n",
    ")"
   ]
  },
  {
   "cell_type": "markdown",
   "metadata": {},
   "source": [
    "### Control which layer is visible and export to pdf"
   ]
  },
  {
   "cell_type": "code",
   "execution_count": 17,
   "metadata": {},
   "outputs": [
    {
     "data": {
      "text/plain": [
       "'C:\\\\Users\\\\KOlso\\\\OneDrive\\\\Documents\\\\ArcGIS\\\\Projects\\\\GIS5571_Lab2\\\\DEM_export.pdf'"
      ]
     },
     "execution_count": 17,
     "metadata": {},
     "output_type": "execute_result"
    }
   ],
   "source": [
    "#Set project and working map\n",
    "project = arcpy.mp.ArcGISProject(\"CURRENT\")\n",
    "#desktop version\n",
    "#part1_map = project.listMaps(\"Map\")[0]\n",
    "\n",
    "#laptop version\n",
    "part1_map = project.listMaps(\"Map2\")[0]\n",
    "\n",
    "#prepare layers and layouts for selection\n",
    "tin_layer = part1_map.listLayers(\"DNR_example_TIN\")[0]\n",
    "dem_layer = part1_map.listLayers(\"DNR_example_DEM\")[0]\n",
    "part1_layout = project.listLayouts(\"TIN\")[0]\n",
    "\n",
    "#Turn on TIN, turn off DEM, export layout\n",
    "tin_layer.visible = True\n",
    "dem_layer.visible = False\n",
    "part1_layout.exportToPDF(os.path.join(data_path, \"TIN_export.pdf\"))\n",
    "\n",
    "#Turn off TIN,turn on DEM, export layout\n",
    "tin_layer.visible = False\n",
    "dem_layer.visible = True\n",
    "part1_layout.exportToPDF(os.path.join(data_path, \"DEM_export.pdf\"))"
   ]
  },
  {
   "cell_type": "code",
   "execution_count": null,
   "metadata": {},
   "outputs": [],
   "source": []
  }
 ],
 "metadata": {
  "kernelspec": {
   "display_name": "ArcGISPro",
   "language": "Python",
   "name": "python3"
  },
  "language_info": {
   "file_extension": ".py",
   "name": "python",
   "version": "3"
  }
 },
 "nbformat": 4,
 "nbformat_minor": 2
}
