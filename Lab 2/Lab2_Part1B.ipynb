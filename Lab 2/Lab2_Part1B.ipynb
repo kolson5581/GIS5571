{
 "cells": [
  {
   "cell_type": "code",
   "execution_count": 18,
   "metadata": {},
   "outputs": [],
   "source": [
    "from arcgis.gis import GIS\n",
    "gis = GIS(\"home\")"
   ]
  },
  {
   "cell_type": "markdown",
   "metadata": {},
   "source": [
    "### Set imports and file paths"
   ]
  },
  {
   "cell_type": "code",
   "execution_count": 1,
   "metadata": {},
   "outputs": [],
   "source": [
    "import arcpy\n",
    "import requests\n",
    "import io\n",
    "import os\n",
    "import zipfile"
   ]
  },
  {
   "cell_type": "code",
   "execution_count": 2,
   "metadata": {},
   "outputs": [],
   "source": [
    "#prep for download of prism data\n",
    "prism_url = \"https://www.prism.oregonstate.edu/fetchData.php?type=all_bil&kind=normals&spatial=4km&elem=ppt&temporal=annual\"\n",
    "prism_res = requests.get(prism_url)\n",
    "\n",
    "#desktop paths\n",
    "#data_path = r\"C:\\Users\\KOlso\\Documents\\ArcGIS\\Projects\\GIS5571_Lab2\"\n",
    "#prism_path = r\"C:\\Users\\KOlso\\Documents\\ArcGIS\\Projects\\GIS5571_Lab2\\prism.zip\"\n",
    "#extract_path = r\"C:\\Users\\KOlso\\Documents\\ArcGIS\\Projects\\GIS5571_Lab2\\prism\"\n",
    "\n",
    "#laptop paths\n",
    "data_path = r\"C:\\Users\\KOlso\\OneDrive\\Documents\\ArcGIS\\Projects\\GIS5571_Lab2\"\n",
    "prism_path = r\"C:\\Users\\KOlso\\OneDrive\\Documents\\ArcGIS\\Projects\\GIS5571_Lab2\\prism.zip\"\n",
    "extract_path = r\"C:\\Users\\KOlso\\OneDrive\\Documents\\ArcGIS\\Projects\\GIS5571_Lab2\\prism\"\n",
    "gdb_path = r\"C:\\Users\\KOlso\\OneDrive\\Documents\\ArcGIS\\Projects\\GIS5571_Lab2\\GIS5571_Lab2.gdb\""
   ]
  },
  {
   "cell_type": "code",
   "execution_count": 21,
   "metadata": {},
   "outputs": [],
   "source": [
    "#write to file\n",
    "with open(prism_path, \"wb\") as file:\n",
    "    file.write(prism_res.content)\n",
    "    \n",
    "#unzip to same location\n",
    "with zipfile.ZipFile(prism_path, \"r\") as zip_ref:\n",
    "    zip_ref.extractall(extract_path)"
   ]
  },
  {
   "cell_type": "markdown",
   "metadata": {},
   "source": [
    "### Convert bils to tiffs for mosaic compatibility"
   ]
  },
  {
   "cell_type": "code",
   "execution_count": 22,
   "metadata": {},
   "outputs": [
    {
     "name": "stdout",
     "output_type": "stream",
     "text": [
      "['PRISM_ppt_30yr_normal_4kmM4_01_bil.bil', 'PRISM_ppt_30yr_normal_4kmM4_02_bil.bil', 'PRISM_ppt_30yr_normal_4kmM4_03_bil.bil', 'PRISM_ppt_30yr_normal_4kmM4_04_bil.bil', 'PRISM_ppt_30yr_normal_4kmM4_05_bil.bil', 'PRISM_ppt_30yr_normal_4kmM4_06_bil.bil', 'PRISM_ppt_30yr_normal_4kmM4_07_bil.bil', 'PRISM_ppt_30yr_normal_4kmM4_08_bil.bil', 'PRISM_ppt_30yr_normal_4kmM4_09_bil.bil', 'PRISM_ppt_30yr_normal_4kmM4_10_bil.bil', 'PRISM_ppt_30yr_normal_4kmM4_11_bil.bil', 'PRISM_ppt_30yr_normal_4kmM4_12_bil.bil']\n"
     ]
    }
   ],
   "source": [
    "#create a list of the file names of just the bils so we can extract them\n",
    "bil_files = [f for f in os.listdir(extract_path) if f.endswith('.bil')]\n",
    "\n",
    "#the above code returns a list that includes the annual file I don't want. Let's take that out.\n",
    "\n",
    "for file in bil_files:\n",
    "    if \"annual\" in file.lower():\n",
    "        bil_files.remove(file)\n",
    "\n",
    "#check to make sure we have what we need\n",
    "print(bil_files)"
   ]
  },
  {
   "cell_type": "code",
   "execution_count": 24,
   "metadata": {},
   "outputs": [],
   "source": [
    "#create folder path for the tifs we'll use to convert to spacetime cube\n",
    "tifs_folder = os.path.join(data_path, \"prism_tifs\")\n",
    "\n",
    "#use bil_files list to convert just the files we want into tiffs\n",
    "for bil in bil_files:\n",
    "    bil_path = os.path.join(extract_path, bil) #this will create a new file name for each list entry\n",
    "    #tif_name = bil.replace(\".bil\", \".tif\")\n",
    "    #tif_path = os.path.join(tifs_folder, tif_name)\n",
    "    arcpy.conversion.RasterToOtherFormat(\n",
    "    Input_Rasters= bil_path,\n",
    "    Output_Workspace= tifs_folder,\n",
    "    Raster_Format=\"TIFF\"\n",
    ")"
   ]
  },
  {
   "cell_type": "markdown",
   "metadata": {},
   "source": [
    "### Create Mosaic Dataset and insert tiffs"
   ]
  },
  {
   "cell_type": "code",
   "execution_count": 27,
   "metadata": {},
   "outputs": [
    {
     "data": {
      "text/html": [
       "<div class='gpresult'><h2>Messages</h2><div id='messages'>Start Time: Tuesday, October 22, 2024 1:53:50 PM<br>Succeeded at Tuesday, October 22, 2024 1:54:09 PM (Elapsed Time: 19.56 seconds)<br></div><div id = 'default' /></div></div>"
      ],
      "text/plain": [
       "<Result 'C:\\\\Users\\\\KOlso\\\\OneDrive\\\\Documents\\\\ArcGIS\\\\Projects\\\\GIS5571_Lab2\\\\GIS5571_Lab2.gdb\\\\PRISM_Normals'>"
      ]
     },
     "execution_count": 27,
     "metadata": {},
     "output_type": "execute_result"
    }
   ],
   "source": [
    "#first we need to create the mosaic dataset - coordinate system is derived from the projection that bils (and now tifs) are in\n",
    "arcpy.management.CreateMosaicDataset(\n",
    "    in_workspace= gdb_path,\n",
    "    in_mosaicdataset_name=\"PRISM_Normals\",\n",
    "    coordinate_system='GEOGCS[\"GCS_North_American_1983\",DATUM[\"D_North_American_1983\",SPHEROID[\"GRS_1980\",6378137.0,298.257222101]],PRIMEM[\"Greenwich\",0.0],UNIT[\"Degree\",0.0174532925199433]]',\n",
    "    num_bands=None,\n",
    "    pixel_type=\"\",\n",
    "    product_definition=\"NONE\",\n",
    "    product_band_definitions=None\n",
    ")"
   ]
  },
  {
   "cell_type": "code",
   "execution_count": 28,
   "metadata": {},
   "outputs": [
    {
     "data": {
      "text/html": [
       "<div class='gpresult'><h2>Messages</h2><div id='messages'>Start Time: Tuesday, October 22, 2024 1:55:39 PM<br>2024-10-22T13:55:41.002: Loading raster datasets<br>2024-10-22T13:55:41.080: Completed crawling 12 data source items. Added 12 mosaic dataset items.<br>2024-10-22T13:55:41.081: Synchronizing crawled data source items<br>2024-10-22T13:55:41.094: Synchronizing items associated with raster type instance &#39;Raster Dataset&#39; [ID: 1].<br>2024-10-22T13:55:41.446: Completed synchronization: 12 items selected, 12 items synchronized.<br>2024-10-22T13:55:41.595: Computing cell size levels<br>2024-10-22T13:55:41.596: Computing unique cell size values<br>2024-10-22T13:55:41.721: Computing maximum cell size values<br>2024-10-22T13:55:41.724: Computing minimum cell size values<br>2024-10-22T13:55:41.756: Updating visibility values of selected items<br>2024-10-22T13:55:41.784: Computing maximum cell size for mosaic dataset<br>2024-10-22T13:55:41.795: Completed computing cell size ranges.<br>2024-10-22T13:55:41.865: Completed building boundary.<br>Succeeded at Tuesday, October 22, 2024 1:55:44 PM (Elapsed Time: 5.79 seconds)<br></div><div id = 'default' /></div></div>"
      ],
      "text/plain": [
       "<Result 'PRISM_Normals'>"
      ]
     },
     "execution_count": 28,
     "metadata": {},
     "output_type": "execute_result"
    }
   ],
   "source": [
    "#using our folder of tiffs to fill out the mosaic dataset\n",
    "#copying the python code from the tool mostly fills in the defaults - unnecessary code, so I've deleted some lines\n",
    "\n",
    "arcpy.management.AddRastersToMosaicDataset(\n",
    "    in_mosaic_dataset=\"PRISM_Normals\",\n",
    "    raster_type=\"Raster Dataset\",\n",
    "    input_path= tifs_folder,\n",
    "    \n",
    ")"
   ]
  },
  {
   "cell_type": "markdown",
   "metadata": {},
   "source": [
    "### Prep multidimensional raster for conversion to spacetime cube"
   ]
  },
  {
   "cell_type": "code",
   "execution_count": 29,
   "metadata": {},
   "outputs": [
    {
     "data": {
      "text/html": [
       "<div class='gpresult'><h2>Messages</h2><div id='messages'>Start Time: Tuesday, October 22, 2024 1:56:04 PM<br>Adding Timestamp to AMD_PRISM_Normals_CAT...<br>Succeeded at Tuesday, October 22, 2024 1:56:05 PM (Elapsed Time: 1.71 seconds)<br></div><div id = 'default' /></div></div>"
      ],
      "text/plain": [
       "<Result 'PRISM_Normals\\\\Footprint'>"
      ]
     },
     "execution_count": 29,
     "metadata": {},
     "output_type": "execute_result"
    }
   ],
   "source": [
    "#add variable and timestamp fields\n",
    "\n",
    "arcpy.management.CalculateField(\n",
    "    in_table=r\"PRISM_Normals\\Footprint\",\n",
    "    field=\"Variable\",\n",
    "    expression='\"precip\"',\n",
    "    expression_type=\"PYTHON3\",\n",
    "    field_type=\"TEXT\",\n",
    ")\n",
    "\n",
    "arcpy.management.CalculateField(\n",
    "    in_table=r\"PRISM_Normals\\Footprint\",\n",
    "    field=\"Timestamp\",\n",
    "    expression='DateAdd(Date(1990, 12, 1), $feature.OBJECTID-1, \"month\")',\n",
    "    expression_type=\"ARCADE\",\n",
    "    field_type=\"DATE\",\n",
    ")"
   ]
  },
  {
   "cell_type": "code",
   "execution_count": 30,
   "metadata": {},
   "outputs": [
    {
     "data": {
      "text/html": [
       "<div class='gpresult'><h2>Messages</h2><div id='messages'>Start Time: Tuesday, October 22, 2024 1:56:11 PM<br>Succeeded at Tuesday, October 22, 2024 1:56:15 PM (Elapsed Time: 4.63 seconds)<br></div><div id = 'default' /></div></div>"
      ],
      "text/plain": [
       "<Result 'PRISM_Normals'>"
      ]
     },
     "execution_count": 30,
     "metadata": {},
     "output_type": "execute_result"
    }
   ],
   "source": [
    "#converts variable and timestamp fields into correct format\n",
    "arcpy.md.BuildMultidimensionalInfo(\n",
    "    in_mosaic_dataset=\"PRISM_Normals\",\n",
    "    variable_field=\"Variable\",\n",
    "    dimension_fields=\"Timestamp # #\",\n",
    "    variable_desc_units=None,\n",
    "    delete_multidimensional_info=\"NO_DELETE_MULTIDIMENSIONAL_INFO\"\n",
    ")"
   ]
  },
  {
   "cell_type": "code",
   "execution_count": 31,
   "metadata": {},
   "outputs": [
    {
     "data": {
      "text/html": [
       "<div class='gpresult'><h2>Messages</h2><div id='messages'>Start Time: Tuesday, October 22, 2024 1:56:27 PM<br>Succeeded at Tuesday, October 22, 2024 1:56:32 PM (Elapsed Time: 4.42 seconds)<br></div><div id = 'default' /></div></div>"
      ],
      "text/plain": [
       "<Result 'PRISM_Normals_MultidimLayer'>"
      ]
     },
     "execution_count": 31,
     "metadata": {},
     "output_type": "execute_result"
    }
   ],
   "source": [
    "arcpy.md.MakeMultidimensionalRasterLayer(\n",
    "    in_multidimensional_raster=\"PRISM_Normals\",\n",
    "    out_multidimensional_raster_layer=\"PRISM_Normals_MultidimLayer\",\n",
    "    variables=\"precip\",\n",
    "    template='-125.020833333 24.0625000000001 -66.4791666663333 49.9375000000001 GEOGCS[\"GCS_North_American_1983\",DATUM[\"D_North_American_1983\",SPHEROID[\"GRS_1980\",6378137.0,298.257222101]],PRIMEM[\"Greenwich\",0.0],UNIT[\"Degree\",0.0174532925199433]]',\n",
    "    )"
   ]
  },
  {
   "cell_type": "code",
   "execution_count": 3,
   "metadata": {},
   "outputs": [
    {
     "data": {
      "text/html": [
       "<div class='gpresult'><h2>Messages</h2><div id='messages' data-messages='[\"Start Time: Tuesday, October 22, 2024 2:17:46 PM\",\"WARNING 110290: This tool requires projected data to accurately measure distances.  The Input Multidimensional Raster Layer will be projected to the WGS 1984 World Equidistant Cylindrical projection (WKID 4087).\",\"WARNING 110013: The default Time Step Interval is 1 month.\",\"WARNING 110067: Your spatial reference is not compatible with CF Conventions.  You may experience difficulties using the resulting space-time cube with other NetCDF tools and software.\",[{\"element\":\"table\",\"data\":[[{\"data\":\"Input feature time extent\",\"prop\":{\"rowspan\":2}},\"1991-01-01 00:00:00\"],[{\"data\":\"to 1991-12-01 00:00:00\",\"prop\":{\"text-align\":\"right\"}}],[\"\",\"\"],[\"Number of time steps\",\"12\"],[\"Time step interval\",\"1 month\"],[\"Time step alignment\",\"End\"],[\"\",\"\"],[\"First time step temporal bias\",\"100.00%\"],[{\"data\":\"First time step interval\",\"prop\":{\"rowspan\":4}},\"after\"],[{\"data\":\"1990-12-01 00:00:00\",\"prop\":{\"text-align\":\"right\"}}],[{\"data\":\"to on or before\",\"prop\":{\"text-align\":\"right\"}}],[{\"data\":\"1991-01-01 00:00:00\",\"prop\":{\"text-align\":\"right\"}}],[\"\",\"\"],[\"Last time step temporal bias\",\"0.00%\"],[{\"data\":\"Last time step interval\",\"prop\":{\"rowspan\":4}},\"after\"],[{\"data\":\"1991-11-01 00:00:00\",\"prop\":{\"text-align\":\"right\"}}],[{\"data\":\"to on or before\",\"prop\":{\"text-align\":\"right\"}}],[{\"data\":\"1991-12-01 00:00:00\",\"prop\":{\"text-align\":\"right\"}}],[\"\",\"\"],[\"Coordinate System\",\"WGS 1984 World Equidistant Cylindrical\"],[\"Cube extent across space\",\"(coordinates in meters)\"],[\"Min X\",\"-13894063.9446\"],[\"Min Y\",\"2708361.9668\"],[\"Max X\",\"-7451448.4149\"],[\"Max Y\",\"5478283.7456\"]],\"elementProps\":{\"striped\":\"true\",\"noHeader\":true,\"title\":\"Space Time Cube Characteristics\",\"0\":{\"align\":\"left\",\"pad\":\"0px\",\"wrap\":true},\"1\":{\"align\":\"right\",\"pad\":\"0px\",\"wrap\":true}}}],[{\"element\":\"table\",\"data\":[[\"Locations\",\"481631\"],[\"Total observations\",\"5779572\"]],\"elementProps\":{\"striped\":\"true\",\"noHeader\":true,\"0\":{\"align\":\"left\",\"pad\":\"0px\",\"wrap\":true},\"1\":{\"align\":\"right\",\"pad\":\"0px\",\"wrap\":true}}}],[{\"element\":\"table\",\"data\":[[\"Trend direction\",\"Not Significant\"],[\"Trend statistic\",\"0.0000\"],[\"Trend p-value\",\"1.0000\"]],\"elementProps\":{\"striped\":\"true\",\"noHeader\":true,\"title\":\"Overall Data Trend - PRECIP_NONE_ZEROS\",\"0\":{\"align\":\"left\",\"pad\":\"0px\",\"wrap\":true},\"1\":{\"align\":\"right\",\"pad\":\"0px\",\"wrap\":true}}}],\"Succeeded at Tuesday, October 22, 2024 2:21:46 PM (Elapsed Time: 4 minutes 0 seconds)\"]' data-show='true'><div id = 'default' /></div></div>"
      ],
      "text/plain": [
       "<Result 'C:\\\\Users\\\\KOlso\\\\OneDrive\\\\Documents\\\\ArcGIS\\\\Projects\\\\GIS5571_Lab2\\\\PRISM_STC.nc'>"
      ]
     },
     "execution_count": 3,
     "metadata": {},
     "output_type": "execute_result"
    }
   ],
   "source": [
    "cube_path = os.path.join(data_path, \"PRISM_STC.nc\")\n",
    "\n",
    "arcpy.stpm.CreateSpaceTimeCubeMDRasterLayer(\n",
    "    in_md_raster=\"PRISM_Normals_MultidimLayer\",\n",
    "    output_cube= cube_path,\n",
    "    fill_empty_bins=\"ZEROS\"\n",
    ")"
   ]
  },
  {
   "cell_type": "code",
   "execution_count": 4,
   "metadata": {},
   "outputs": [
    {
     "data": {
      "text/html": [
       "<div class='gpresult'><h2>Messages</h2><div id='messages'>Start Time: Tuesday, October 22, 2024 2:28:06 PM<br>WARNING 110044: The time it takes to render the cube in three dimensions may vary considerably based on the number of features and the graphics card associated with your CPU.<br>WARNING 110054: If some or all of your data is not drawing, it may fall outside of the Visibility Range limits, which can be cleared. If some or all of your data is underground, you may need to turn off Elevation Surfaces.<br>Succeeded at Tuesday, October 22, 2024 2:36:43 PM (Elapsed Time: 8 minutes 36 seconds)<br></div><div id = 'default' /></div></div>"
      ],
      "text/plain": [
       "<Result 'C:\\\\Users\\\\KOlso\\\\OneDrive\\\\Documents\\\\ArcGIS\\\\Projects\\\\GIS5571_Lab2\\\\GIS5571_Lab2.gdb\\\\PRISM_STC_VisualizeSpaceTimeCube3D'>"
      ]
     },
     "execution_count": 4,
     "metadata": {},
     "output_type": "execute_result"
    }
   ],
   "source": [
    "arcpy.stpm.VisualizeSpaceTimeCube3D(\n",
    "    in_cube=r\"C:\\Users\\KOlso\\OneDrive\\Documents\\ArcGIS\\Projects\\GIS5571_Lab2\\PRISM_STC.nc\",\n",
    "    cube_variable=\"PRECIP_NONE_ZEROS\",\n",
    "    display_theme=\"VALUE\",\n",
    "    output_features=r\"C:\\Users\\KOlso\\OneDrive\\Documents\\ArcGIS\\Projects\\GIS5571_Lab2\\GIS5571_Lab2.gdb\\PRISM_STC_VisualizeSpaceTimeCube3D\"\n",
    ")"
   ]
  },
  {
   "cell_type": "code",
   "execution_count": null,
   "metadata": {},
   "outputs": [],
   "source": []
  }
 ],
 "metadata": {
  "kernelspec": {
   "display_name": "ArcGISPro",
   "language": "Python",
   "name": "python3"
  },
  "language_info": {
   "file_extension": ".py",
   "name": "python",
   "version": "3"
  }
 },
 "nbformat": 4,
 "nbformat_minor": 2
}
