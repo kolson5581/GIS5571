{
 "cells": [
  {
   "cell_type": "code",
   "execution_count": 1,
   "metadata": {},
   "outputs": [],
   "source": [
    "from arcgis.gis import GIS\n",
    "gis = GIS(\"home\")"
   ]
  },
  {
   "cell_type": "markdown",
   "metadata": {},
   "source": [
    "## Part 1B - Create PRISM spacetime cube"
   ]
  },
  {
   "cell_type": "markdown",
   "metadata": {},
   "source": [
    "### Set imports and file paths"
   ]
  },
  {
   "cell_type": "code",
   "execution_count": 3,
   "metadata": {},
   "outputs": [],
   "source": [
    "import arcpy\n",
    "import requests\n",
    "import io\n",
    "import os\n",
    "import zipfile"
   ]
  },
  {
   "cell_type": "code",
   "execution_count": 76,
   "metadata": {},
   "outputs": [],
   "source": [
    "#prep for download of prism data\n",
    "prism_url = \"https://www.prism.oregonstate.edu/fetchData.php?type=all_bil&kind=normals&spatial=4km&elem=ppt&temporal=annual\"\n",
    "prism_res = requests.get(prism_url)\n",
    "\n",
    "#desktop paths\n",
    "data_path = r\"C:\\Users\\KOlso\\Documents\\ArcGIS\\Projects\\GIS5571_Lab2\"\n",
    "prism_path = os.path.join(data_path, \"prism.zip\")\n",
    "extract_path = os.path.join(data_path, \"prism\")\n",
    "gdb_path = os.path.join(data_path, \"GIS5571_Lab2.gdb\")\n",
    "\n",
    "#laptop paths\n",
    "#data_path = r\"C:\\Users\\KOlso\\OneDrive\\Documents\\ArcGIS\\Projects\\GIS5571_Lab2\"\n",
    "prism_path = os.path.join(data_path, \"prism.zip\")\n",
    "extract_path = os.path.join(data_path, \"prism\")\n",
    "gdb_path = os.path.join(data_path, \"GIS5571_Lab2.gdb\")"
   ]
  },
  {
   "cell_type": "code",
   "execution_count": 77,
   "metadata": {},
   "outputs": [],
   "source": [
    "#write to file\n",
    "with open(prism_path, \"wb\") as file:\n",
    "    file.write(prism_res.content)\n",
    "    \n",
    "#unzip to working folder\n",
    "with zipfile.ZipFile(prism_path, \"r\") as zip_ref:\n",
    "    zip_ref.extractall(extract_path)"
   ]
  },
  {
   "cell_type": "markdown",
   "metadata": {},
   "source": [
    "### Convert bils to tiffs for mosaic compatibility"
   ]
  },
  {
   "cell_type": "code",
   "execution_count": 78,
   "metadata": {},
   "outputs": [
    {
     "name": "stdout",
     "output_type": "stream",
     "text": [
      "['PRISM_ppt_30yr_normal_4kmM4_01_bil.bil', 'PRISM_ppt_30yr_normal_4kmM4_02_bil.bil', 'PRISM_ppt_30yr_normal_4kmM4_03_bil.bil', 'PRISM_ppt_30yr_normal_4kmM4_04_bil.bil', 'PRISM_ppt_30yr_normal_4kmM4_05_bil.bil', 'PRISM_ppt_30yr_normal_4kmM4_06_bil.bil', 'PRISM_ppt_30yr_normal_4kmM4_07_bil.bil', 'PRISM_ppt_30yr_normal_4kmM4_08_bil.bil', 'PRISM_ppt_30yr_normal_4kmM4_09_bil.bil', 'PRISM_ppt_30yr_normal_4kmM4_10_bil.bil', 'PRISM_ppt_30yr_normal_4kmM4_11_bil.bil', 'PRISM_ppt_30yr_normal_4kmM4_12_bil.bil']\n"
     ]
    }
   ],
   "source": [
    "#create a list of the file names of just the bils so we can extract them\n",
    "bil_files = [f for f in os.listdir(extract_path) if f.endswith('.bil')]\n",
    "\n",
    "#the above code returns a list that includes the annual file I don't want. Let's take that out.\n",
    "\n",
    "for file in bil_files:\n",
    "    if \"annual\" in file.lower():\n",
    "        bil_files.remove(file)\n",
    "\n",
    "#check to make sure we have what we need\n",
    "print(bil_files)"
   ]
  },
  {
   "cell_type": "code",
   "execution_count": 79,
   "metadata": {},
   "outputs": [],
   "source": [
    "#create folder path for the tifs we'll use to convert to spacetime cube\n",
    "tifs_folder = os.path.join(data_path, \"prism_tifs\")\n",
    "\n",
    "#use bil_files list to convert just the files we want into tiffs\n",
    "for bil in bil_files:\n",
    "    bil_path = os.path.join(extract_path, bil) #this will create a new file name for each list entry\n",
    "    #tif_name = bil.replace(\".bil\", \".tif\")\n",
    "    #tif_path = os.path.join(tifs_folder, tif_name)\n",
    "    arcpy.conversion.RasterToOtherFormat(\n",
    "    Input_Rasters= bil_path,\n",
    "    Output_Workspace= tifs_folder,\n",
    "    Raster_Format=\"TIFF\"\n",
    ")"
   ]
  },
  {
   "cell_type": "markdown",
   "metadata": {},
   "source": [
    "### Create Mosaic Dataset and insert tiffs"
   ]
  },
  {
   "cell_type": "code",
   "execution_count": 85,
   "metadata": {},
   "outputs": [
    {
     "data": {
      "text/html": [
       "<div class='gpresult'><h2>Messages</h2><div id='messages'>Start Time: Tuesday, October 29, 2024 12:04:12 AM<br>Succeeded at Tuesday, October 29, 2024 12:04:14 AM (Elapsed Time: 2.55 seconds)<br></div><div id = 'default' /></div></div>"
      ],
      "text/plain": [
       "<Result 'C:\\\\Users\\\\KOlso\\\\Documents\\\\ArcGIS\\\\Projects\\\\GIS5571_Lab2\\\\gis5571_lab2.gdb\\\\PRISM_Normals_2'>"
      ]
     },
     "execution_count": 85,
     "metadata": {},
     "output_type": "execute_result"
    }
   ],
   "source": [
    "#first we need to create the mosaic dataset - coordinate system is derived from the projection that bils (and now tifs) are in\n",
    "arcpy.management.CreateMosaicDataset(\n",
    "    in_workspace= gdb_path,\n",
    "    in_mosaicdataset_name=\"PRISM_Normals_2\",\n",
    "    coordinate_system='GEOGCS[\"GCS_North_American_1983\",DATUM[\"D_North_American_1983\",SPHEROID[\"GRS_1980\",6378137.0,298.257222101]],PRIMEM[\"Greenwich\",0.0],UNIT[\"Degree\",0.0174532925199433]]',\n",
    "    num_bands=None,\n",
    "    pixel_type=\"\",\n",
    "    product_definition=\"NONE\",\n",
    "    product_band_definitions=None\n",
    ")"
   ]
  },
  {
   "cell_type": "code",
   "execution_count": 86,
   "metadata": {},
   "outputs": [
    {
     "data": {
      "text/html": [
       "<div class='gpresult'><h2>Messages</h2><div id='messages'>Start Time: Tuesday, October 29, 2024 12:04:22 AM<br>2024-10-29T00:04:22.905: Loading raster datasets<br>2024-10-29T00:04:22.944: Completed crawling 13 data source items. Added 13 mosaic dataset items.<br>2024-10-29T00:04:22.946: Synchronizing crawled data source items<br>2024-10-29T00:04:22.958: Synchronizing items associated with raster type instance &#39;Raster Dataset&#39; [ID: 1].<br>2024-10-29T00:04:23.076: Completed synchronization: 13 items selected, 13 items synchronized.<br>2024-10-29T00:04:23.153: Computing cell size levels<br>2024-10-29T00:04:23.153: Computing unique cell size values<br>2024-10-29T00:04:23.216: Computing maximum cell size values<br>2024-10-29T00:04:23.219: Computing minimum cell size values<br>2024-10-29T00:04:23.222: Updating visibility values of selected items<br>2024-10-29T00:04:23.238: Computing maximum cell size for mosaic dataset<br>2024-10-29T00:04:23.247: Completed computing cell size ranges.<br>2024-10-29T00:04:23.296: Completed building boundary.<br>Succeeded at Tuesday, October 29, 2024 12:04:24 AM (Elapsed Time: 2.38 seconds)<br></div><div id = 'default' /></div></div>"
      ],
      "text/plain": [
       "<Result 'PRISM_Normals_2'>"
      ]
     },
     "execution_count": 86,
     "metadata": {},
     "output_type": "execute_result"
    }
   ],
   "source": [
    "#using our folder of tiffs to fill out the mosaic dataset\n",
    "#copying the python code from the tool mostly fills in the defaults - unnecessary code, so I've deleted some lines\n",
    "\n",
    "arcpy.management.AddRastersToMosaicDataset(\n",
    "    in_mosaic_dataset=\"PRISM_Normals_2\",\n",
    "    raster_type=\"Raster Dataset\",\n",
    "    input_path=r\"C:\\Users\\KOlso\\Documents\\ArcGIS\\Projects\\GIS5571_Lab2\\prism_tifs\",\n",
    "    \n",
    ")"
   ]
  },
  {
   "cell_type": "markdown",
   "metadata": {},
   "source": [
    "### Prep multidimensional raster for conversion to spacetime cube"
   ]
  },
  {
   "cell_type": "code",
   "execution_count": 87,
   "metadata": {},
   "outputs": [
    {
     "data": {
      "text/html": [
       "<div class='gpresult'><h2>Messages</h2><div id='messages'>Start Time: Tuesday, October 29, 2024 12:04:49 AM<br>Adding Timestamp to AMD_PRISM_Normals_2_CAT...<br>Succeeded at Tuesday, October 29, 2024 12:04:50 AM (Elapsed Time: 0.55 seconds)<br></div><div id = 'default' /></div></div>"
      ],
      "text/plain": [
       "<Result 'PRISM_Normals_2\\\\Footprint'>"
      ]
     },
     "execution_count": 87,
     "metadata": {},
     "output_type": "execute_result"
    }
   ],
   "source": [
    "#add variable and timestamp fields to our footprint table - this is used in the next step\n",
    "\n",
    "arcpy.management.CalculateField(\n",
    "    in_table=r\"PRISM_Normals_2\\Footprint\",\n",
    "    field=\"Variable\",\n",
    "    expression='\"precip\"',\n",
    "    expression_type=\"PYTHON3\",\n",
    "    field_type=\"TEXT\",\n",
    ")\n",
    "\n",
    "arcpy.management.CalculateField(\n",
    "    in_table=r\"PRISM_Normals_2\\Footprint\",\n",
    "    field=\"Timestamp\",\n",
    "    expression='DateAdd(Date(1990, 12, 1), $feature.OBJECTID-1, \"month\")',\n",
    "    expression_type=\"ARCADE\",\n",
    "    field_type=\"DATE\",\n",
    ")"
   ]
  },
  {
   "cell_type": "code",
   "execution_count": 88,
   "metadata": {},
   "outputs": [
    {
     "data": {
      "text/html": [
       "<div class='gpresult'><h2>Messages</h2><div id='messages'>Start Time: Tuesday, October 29, 2024 12:04:53 AM<br>Succeeded at Tuesday, October 29, 2024 12:04:55 AM (Elapsed Time: 1.81 seconds)<br></div><div id = 'default' /></div></div>"
      ],
      "text/plain": [
       "<Result 'PRISM_Normals_2'>"
      ]
     },
     "execution_count": 88,
     "metadata": {},
     "output_type": "execute_result"
    }
   ],
   "source": [
    "#converts variable and timestamp fields into correct format\n",
    "arcpy.md.BuildMultidimensionalInfo(\n",
    "    in_mosaic_dataset=\"PRISM_Normals_2\",\n",
    "    variable_field=\"Variable\",\n",
    "    dimension_fields=\"Timestamp # #\",\n",
    "    variable_desc_units=None,\n",
    "    delete_multidimensional_info=\"NO_DELETE_MULTIDIMENSIONAL_INFO\"\n",
    ")"
   ]
  },
  {
   "cell_type": "code",
   "execution_count": 89,
   "metadata": {},
   "outputs": [
    {
     "data": {
      "text/html": [
       "<div class='gpresult'><h2>Messages</h2><div id='messages'>Start Time: Tuesday, October 29, 2024 12:05:28 AM<br>Succeeded at Tuesday, October 29, 2024 12:05:29 AM (Elapsed Time: 1.64 seconds)<br></div><div id = 'default' /></div></div>"
      ],
      "text/plain": [
       "<Result 'PRISM_Normals_MultidimLayer'>"
      ]
     },
     "execution_count": 89,
     "metadata": {},
     "output_type": "execute_result"
    }
   ],
   "source": [
    "arcpy.md.MakeMultidimensionalRasterLayer(\n",
    "    in_multidimensional_raster=\"PRISM_Normals_2\",\n",
    "    out_multidimensional_raster_layer=\"PRISM_Normals_MultidimLayer\",\n",
    "    variables=\"precip\",\n",
    "    template='-125.020833333 24.0625000000001 -66.4791666663333 49.9375000000001 GEOGCS[\"GCS_North_American_1983\",DATUM[\"D_North_American_1983\",SPHEROID[\"GRS_1980\",6378137.0,298.257222101]],PRIMEM[\"Greenwich\",0.0],UNIT[\"Degree\",0.0174532925199433]]',\n",
    "    )"
   ]
  },
  {
   "cell_type": "code",
   "execution_count": 91,
   "metadata": {},
   "outputs": [
    {
     "ename": "ExecuteError",
     "evalue": "Failed to execute. Parameters are not valid.\nERROR 110003: PRISM_STC.nc is not a valid Space Time Cube.\nFailed to execute (VisualizeSpaceTimeCube3D).\n",
     "output_type": "error",
     "traceback": [
      "\u001b[0;31m---------------------------------------------------------------------------\u001b[0m\n\u001b[0;31mExecuteError\u001b[0m                              Traceback (most recent call last)",
      "In  \u001b[0;34m[91]\u001b[0m:\nLine \u001b[0;34m1\u001b[0m:     arcpy.stpm.VisualizeSpaceTimeCube3D(\u001b[37m\u001b[39;49;00m\n",
      "File \u001b[0;34mC:\\Program Files\\ArcGIS\\Pro\\Resources\\ArcPy\\arcpy\\stpm.py\u001b[0m, in \u001b[0;32mVisualizeSpaceTimeCube3D\u001b[0m:\nLine \u001b[0;34m505\u001b[0m:   \u001b[34mraise\u001b[39;49;00m e\u001b[37m\u001b[39;49;00m\n",
      "File \u001b[0;34mC:\\Program Files\\ArcGIS\\Pro\\Resources\\ArcPy\\arcpy\\stpm.py\u001b[0m, in \u001b[0;32mVisualizeSpaceTimeCube3D\u001b[0m:\nLine \u001b[0;34m502\u001b[0m:   retval = convertArcObjectToPythonObject(gp.VisualizeSpaceTimeCube3D_stpm(*gp_fixargs((in_cube, cube_variable, display_theme, output_features), \u001b[34mTrue\u001b[39;49;00m)))\u001b[37m\u001b[39;49;00m\n",
      "File \u001b[0;34mC:\\Program Files\\ArcGIS\\Pro\\Resources\\ArcPy\\arcpy\\geoprocessing\\_base.py\u001b[0m, in \u001b[0;32m<lambda>\u001b[0m:\nLine \u001b[0;34m512\u001b[0m:   \u001b[34mreturn\u001b[39;49;00m \u001b[34mlambda\u001b[39;49;00m *args: val(*gp_fixargs(args, \u001b[34mTrue\u001b[39;49;00m))\u001b[37m\u001b[39;49;00m\n",
      "\u001b[0;31mExecuteError\u001b[0m: Failed to execute. Parameters are not valid.\nERROR 110003: PRISM_STC.nc is not a valid Space Time Cube.\nFailed to execute (VisualizeSpaceTimeCube3D).\n\n\u001b[0;31m---------------------------------------------------------------------------\u001b[0m"
     ]
    }
   ],
   "source": [
    "cube_path = os.path.join(data_path, \"PRISM_STC.nc\")\n",
    "\n",
    "arcpy.stpm.CreateSpaceTimeCubeMDRasterLayer(\n",
    "    in_md_raster=\"PRISM_Normals_MultidimLayer\",\n",
    "    output_cube= cube_path,\n",
    "    fill_empty_bins=\"ZEROS\"\n",
    ")"
   ]
  },
  {
   "cell_type": "code",
   "execution_count": 94,
   "metadata": {},
   "outputs": [
    {
     "data": {
      "text/html": [
       "<div class='gpresult'><h2>Messages</h2><div id='messages'>Start Time: Tuesday, October 29, 2024 12:13:46 AM<br>WARNING 110044: The time it takes to render the cube in three dimensions may vary considerably based on the number of features and the graphics card associated with your CPU.<br>WARNING 110054: If some or all of your data is not drawing, it may fall outside of the Visibility Range limits, which can be cleared. If some or all of your data is underground, you may need to turn off Elevation Surfaces.<br>Succeeded at Tuesday, October 29, 2024 12:18:05 AM (Elapsed Time: 4 minutes 19 seconds)<br></div><div id = 'default' /></div></div>"
      ],
      "text/plain": [
       "<Result 'C:\\\\Users\\\\KOlso\\\\Documents\\\\ArcGIS\\\\Projects\\\\GIS5571_Lab2\\\\GIS5571_Lab2.gdb\\\\PRISM_STC_VisualizeSpaceTimeCube3D'>"
      ]
     },
     "execution_count": 94,
     "metadata": {},
     "output_type": "execute_result"
    }
   ],
   "source": [
    "arcpy.stpm.VisualizeSpaceTimeCube3D(\n",
    "    in_cube= cube_path,\n",
    "    cube_variable=\"PRECIP_NONE_ZEROS\",\n",
    "    display_theme=\"VALUE\",\n",
    "    output_features= os.path.join(gdb_path, \"PRISM_STC_VisualizeSpaceTimeCube3D\")\n",
    ")"
   ]
  },
  {
   "cell_type": "code",
   "execution_count": null,
   "metadata": {},
   "outputs": [],
   "source": []
  }
 ],
 "metadata": {
  "kernelspec": {
   "display_name": "ArcGISPro",
   "language": "Python",
   "name": "python3"
  },
  "language_info": {
   "file_extension": ".py",
   "name": "python",
   "version": "3"
  }
 },
 "nbformat": 4,
 "nbformat_minor": 2
}
