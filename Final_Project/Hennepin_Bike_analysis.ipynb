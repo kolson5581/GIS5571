{
 "cells": [
  {
   "cell_type": "code",
   "execution_count": 1,
   "metadata": {},
   "outputs": [],
   "source": [
    "from arcgis.gis import GIS\n",
    "gis = GIS(\"home\")"
   ]
  },
  {
   "cell_type": "code",
   "execution_count": 5,
   "metadata": {},
   "outputs": [],
   "source": [
    "import requests\n",
    "import os\n",
    "import zipfile\n",
    "import arcpy"
   ]
  },
  {
   "cell_type": "code",
   "execution_count": null,
   "metadata": {},
   "outputs": [],
   "source": [
    "#set important file paths\n",
    "gdb_path = r\"C:\\Users\\KOlso\\Documents\\ArcGIS\\Projects\\5571_Final_Proj\\5571_Final_Proj.gdb\"\n",
    "proj_folder = r\"C:\\Users\\KOlso\\Documents\\ArcGIS\\Projects\\5571_Final_Proj\"\n",
    "\n"
   ]
  },
  {
   "cell_type": "code",
   "execution_count": 7,
   "metadata": {},
   "outputs": [],
   "source": [
    "#set urls for download\n",
    "\n",
    "streets_url = \"https://hub.arcgis.com/api/v3/datasets/2c68a692df4b4e47af378a00452d85b0_0/downloads/data?format=shp&spatialRefId=26915&where=1=1\"\n",
    "bike_url = \"https://hub.arcgis.com/api/v3/datasets/938c8598f0a0439a8d612bb7894a05cc_1/downloads/data?format=shp&spatialRefId=26915&where=1=1\"\n",
    "\n",
    "streets_zip_path = r\"C:\\Users\\KOlso\\Documents\\ArcGIS\\Projects\\5571_Final_Proj\\Hennepin_County_Street_Centerlines.zip\"\n",
    "bike_zip_path = r\"C:\\Users\\KOlso\\Documents\\ArcGIS\\Projects\\5571_Final_Proj\\Hennepin_County_Bike_and_Pedestrian_System.zip\"\n",
    "\n",
    "streets_path = r\"C:\\Users\\KOlso\\Documents\\ArcGIS\\Projects\\5571_Final_Proj\\Hennepin_County_Street_Centerlines\"\n",
    "bike_path = r\"C:\\Users\\KOlso\\Documents\\ArcGIS\\Projects\\5571_Final_Proj\\Hennepin_County_Bike_and_Pedestrian_System\"\n",
    "\n",
    "#request downloads\n",
    "streets_res = requests.get(streets_url)\n",
    "bike_res = requests.get(bike_url)\n",
    "\n",
    "#save to file\n",
    "with open (streets_zip_path, \"wb\") as f:\n",
    "    f.write(streets_res.content)\n",
    "    \n",
    "with open (bike_zip_path, \"wb\") as f:\n",
    "    f.write(bike_res.content)"
   ]
  },
  {
   "cell_type": "code",
   "execution_count": 9,
   "metadata": {},
   "outputs": [],
   "source": [
    "#unzip files\n",
    "with zipfile.ZipFile(streets_zip_path, \"r\") as zip_ref:\n",
    "    zip_ref.extractall(streets_path)\n",
    "    \n",
    "with zipfile.ZipFile(bike_zip_path, \"r\") as zip_ref:\n",
    "    zip_ref.extractall(bike_path)"
   ]
  },
  {
   "cell_type": "code",
   "execution_count": null,
   "metadata": {},
   "outputs": [],
   "source": [
    "## insert a few steps here I did by hand the first time"
   ]
  },
  {
   "cell_type": "code",
   "execution_count": 10,
   "metadata": {},
   "outputs": [
    {
     "data": {
      "text/html": [
       "<div class='gpresult'><h2>Messages</h2><div id='messages'>Start Time: Sunday, November 3, 2024 7:57:15 PM<br>Succeeded at Sunday, November 3, 2024 7:57:16 PM (Elapsed Time: 0.98 seconds)<br></div><div id = 'default' /></div></div>"
      ],
      "text/plain": [
       "<Result 'C:\\\\Users\\\\KOlso\\\\Documents\\\\ArcGIS\\\\Projects\\\\5571_Final_Proj\\\\5571_Final_Proj.gdb\\\\Hennepin_Bike_Sys'>"
      ]
     },
     "execution_count": 10,
     "metadata": {},
     "output_type": "execute_result"
    }
   ],
   "source": [
    "#narrow bike and ped system to just bike system\n",
    "\n",
    "arcpy.conversion.ExportFeatures(\n",
    "    in_features=\"Hennepin_County_Bike_and_Pedestrian_System\",\n",
    "    out_features=r\"C:\\Users\\KOlso\\Documents\\ArcGIS\\Projects\\5571_Final_Proj\\5571_Final_Proj.gdb\\Hennepin_Bike_Sys\",\n",
    "    where_clause=\"FACILITY = 'Bike' Or FACILITY = 'Shared'\",\n",
    "    use_field_alias_as_name=\"NOT_USE_ALIAS\",\n",
    "    field_mapping='OBJECTID \"OBJECTID\" true true false 4 Short 0 4,First,#,Hennepin_County_Bike_and_Pedestrian_System,OBJECTID,-1,-1;CITY_MUNI \"CITY_MUNI\" true true false 33 Text 0 0,First,#,Hennepin_County_Bike_and_Pedestrian_System,CITY_MUNI,0,32;COUNTY \"COUNTY\" true true false 8 Text 0 0,First,#,Hennepin_County_Bike_and_Pedestrian_System,COUNTY,0,7;LENGTH \"LENGTH\" true true false 24 Double 15 23,First,#,Hennepin_County_Bike_and_Pedestrian_System,LENGTH,-1,-1;WIDTH \"WIDTH\" true true false 24 Double 15 23,First,#,Hennepin_County_Bike_and_Pedestrian_System,WIDTH,-1,-1;PARKING \"PARKING\" true true false 3 Text 0 0,First,#,Hennepin_County_Bike_and_Pedestrian_System,PARKING,0,2;UNIQUE_ID \"UNIQUE_ID\" true true false 13 Text 0 0,First,#,Hennepin_County_Bike_and_Pedestrian_System,UNIQUE_ID,0,12;TRAILNAME \"TRAILNAME\" true true false 53 Text 0 0,First,#,Hennepin_County_Bike_and_Pedestrian_System,TRAILNAME,0,52;TRLSYSNAME \"TRLSYSNAME\" true true false 28 Text 0 0,First,#,Hennepin_County_Bike_and_Pedestrian_System,TRLSYSNAME,0,27;GEN_TYPE \"GEN_TYPE\" true true false 10 Text 0 0,First,#,Hennepin_County_Bike_and_Pedestrian_System,GEN_TYPE,0,9;AGENCYNAME \"AGENCYNAME\" true true false 38 Text 0 0,First,#,Hennepin_County_Bike_and_Pedestrian_System,AGENCYNAME,0,37;AGCY_TYPE \"AGCY_TYPE\" true true false 16 Text 0 0,First,#,Hennepin_County_Bike_and_Pedestrian_System,AGCY_TYPE,0,15;SURFACETYP \"SURFACETYP\" true true false 18 Text 0 0,First,#,Hennepin_County_Bike_and_Pedestrian_System,SURFACETYP,0,17;PARL_RD \"PARL_RD\" true true false 30 Text 0 0,First,#,Hennepin_County_Bike_and_Pedestrian_System,PARL_RD,0,29;ALTPARLRD \"ALTPARLRD\" true true false 29 Text 0 0,First,#,Hennepin_County_Bike_and_Pedestrian_System,ALTPARLRD,0,28;YEAR_OPEN \"YEAR_OPEN\" true true false 4 Short 0 4,First,#,Hennepin_County_Bike_and_Pedestrian_System,YEAR_OPEN,-1,-1;SIDESTREET \"SIDESTREET\" true true false 10 Text 0 0,First,#,Hennepin_County_Bike_and_Pedestrian_System,SIDESTREET,0,9;RBTN \"RBTN\" true true false 1 Text 0 0,First,#,Hennepin_County_Bike_and_Pedestrian_System,RBTN,0,254;CLRZN_TYPE \"CLRZN_TYPE\" true true false 23 Text 0 0,First,#,Hennepin_County_Bike_and_Pedestrian_System,CLRZN_TYPE,0,22;CLRZN_WDTH \"CLRZN_WDTH\" true true false 24 Double 15 23,First,#,Hennepin_County_Bike_and_Pedestrian_System,CLRZN_WDTH,-1,-1;FACILITY \"FACILITY\" true true false 8 Text 0 0,First,#,Hennepin_County_Bike_and_Pedestrian_System,FACILITY,0,7;SPEC_TYPE \"SPEC_TYPE\" true true false 29 Text 0 0,First,#,Hennepin_County_Bike_and_Pedestrian_System,SPEC_TYPE,0,28;STATUS \"STATUS\" true true false 7 Text 0 0,First,#,Hennepin_County_Bike_and_Pedestrian_System,STATUS,0,6;COUNTYRD_R \"COUNTYRD_R\" true true false 3 Text 0 0,First,#,Hennepin_County_Bike_and_Pedestrian_System,COUNTYRD_R,0,2;ShapeSTLen \"ShapeSTLen\" true true false 24 Double 15 23,First,#,Hennepin_County_Bike_and_Pedestrian_System,ShapeSTLen,-1,-1',\n",
    "    sort_field=None\n",
    ")\n",
    "\n",
    "#This is new basis for bike network - all other version will build from this"
   ]
  },
  {
   "cell_type": "code",
   "execution_count": 11,
   "metadata": {},
   "outputs": [
    {
     "data": {
      "text/html": [
       "<div class='gpresult'><h2>Messages</h2><div id='messages'>Start Time: Sunday, November 3, 2024 8:03:00 PM<br>Succeeded at Sunday, November 3, 2024 8:03:01 PM (Elapsed Time: 1.04 seconds)<br></div><div id = 'default' /></div></div>"
      ],
      "text/plain": [
       "<Result 'C:\\\\Users\\\\KOlso\\\\Documents\\\\ArcGIS\\\\Projects\\\\5571_Final_Proj\\\\5571_Final_Proj.gdb\\\\Hennepin_Current_Bike_Sys'>"
      ]
     },
     "execution_count": 11,
     "metadata": {},
     "output_type": "execute_result"
    }
   ],
   "source": [
    "'''\n",
    "Will create three versions of bike network now:\n",
    "1. Remove planned, but keep all bike facilities\n",
    "2. Remove planned, keep only high quality bike facilities\n",
    "3. Planned - all  bike facilities\n",
    "'''\n",
    "#Create 1 from above:\n",
    "arcpy.conversion.ExportFeatures(\n",
    "    in_features=\"Hennepin_Bike_Sys\",\n",
    "    out_features=r\"C:\\Users\\KOlso\\Documents\\ArcGIS\\Projects\\5571_Final_Proj\\5571_Final_Proj.gdb\\Hennepin_Current_Bike_Sys\",\n",
    "    where_clause=\"STATUS = 'Open'\",\n",
    "    use_field_alias_as_name=\"NOT_USE_ALIAS\",\n",
    "    field_mapping='OBJECTID_1 \"OBJECTID\" true true false 2 Short 0 0,First,#,Hennepin_Bike_Sys,OBJECTID_1,-1,-1;CITY_MUNI \"CITY_MUNI\" true true false 33 Text 0 0,First,#,Hennepin_Bike_Sys,CITY_MUNI,0,32;COUNTY \"COUNTY\" true true false 8 Text 0 0,First,#,Hennepin_Bike_Sys,COUNTY,0,7;LENGTH \"LENGTH\" true true false 8 Double 0 0,First,#,Hennepin_Bike_Sys,LENGTH,-1,-1;WIDTH \"WIDTH\" true true false 8 Double 0 0,First,#,Hennepin_Bike_Sys,WIDTH,-1,-1;PARKING \"PARKING\" true true false 3 Text 0 0,First,#,Hennepin_Bike_Sys,PARKING,0,2;UNIQUE_ID \"UNIQUE_ID\" true true false 13 Text 0 0,First,#,Hennepin_Bike_Sys,UNIQUE_ID,0,12;TRAILNAME \"TRAILNAME\" true true false 53 Text 0 0,First,#,Hennepin_Bike_Sys,TRAILNAME,0,52;TRLSYSNAME \"TRLSYSNAME\" true true false 28 Text 0 0,First,#,Hennepin_Bike_Sys,TRLSYSNAME,0,27;GEN_TYPE \"GEN_TYPE\" true true false 10 Text 0 0,First,#,Hennepin_Bike_Sys,GEN_TYPE,0,9;AGENCYNAME \"AGENCYNAME\" true true false 38 Text 0 0,First,#,Hennepin_Bike_Sys,AGENCYNAME,0,37;AGCY_TYPE \"AGCY_TYPE\" true true false 16 Text 0 0,First,#,Hennepin_Bike_Sys,AGCY_TYPE,0,15;SURFACETYP \"SURFACETYP\" true true false 18 Text 0 0,First,#,Hennepin_Bike_Sys,SURFACETYP,0,17;PARL_RD \"PARL_RD\" true true false 30 Text 0 0,First,#,Hennepin_Bike_Sys,PARL_RD,0,29;ALTPARLRD \"ALTPARLRD\" true true false 29 Text 0 0,First,#,Hennepin_Bike_Sys,ALTPARLRD,0,28;YEAR_OPEN \"YEAR_OPEN\" true true false 2 Short 0 0,First,#,Hennepin_Bike_Sys,YEAR_OPEN,-1,-1;SIDESTREET \"SIDESTREET\" true true false 10 Text 0 0,First,#,Hennepin_Bike_Sys,SIDESTREET,0,9;RBTN \"RBTN\" true true false 1 Text 0 0,First,#,Hennepin_Bike_Sys,RBTN,0,254;CLRZN_TYPE \"CLRZN_TYPE\" true true false 23 Text 0 0,First,#,Hennepin_Bike_Sys,CLRZN_TYPE,0,22;CLRZN_WDTH \"CLRZN_WDTH\" true true false 8 Double 0 0,First,#,Hennepin_Bike_Sys,CLRZN_WDTH,-1,-1;FACILITY \"FACILITY\" true true false 8 Text 0 0,First,#,Hennepin_Bike_Sys,FACILITY,0,7;SPEC_TYPE \"SPEC_TYPE\" true true false 29 Text 0 0,First,#,Hennepin_Bike_Sys,SPEC_TYPE,0,28;STATUS \"STATUS\" true true false 7 Text 0 0,First,#,Hennepin_Bike_Sys,STATUS,0,6;COUNTYRD_R \"COUNTYRD_R\" true true false 3 Text 0 0,First,#,Hennepin_Bike_Sys,COUNTYRD_R,0,2;ShapeSTLen \"ShapeSTLen\" true true false 8 Double 0 0,First,#,Hennepin_Bike_Sys,ShapeSTLen,-1,-1;Shape_Length \"Shape_Length\" false true true 8 Double 0 0,First,#,Hennepin_Bike_Sys,Shape_Length,-1,-1',\n",
    "    sort_field=None\n",
    ")\n",
    "\n"
   ]
  },
  {
   "cell_type": "code",
   "execution_count": 12,
   "metadata": {},
   "outputs": [
    {
     "data": {
      "text/html": [
       "<div class='gpresult'><h2>Messages</h2><div id='messages'>Start Time: Sunday, November 3, 2024 8:30:31 PM<br>Succeeded at Sunday, November 3, 2024 8:30:32 PM (Elapsed Time: 0.82 seconds)<br></div><div id = 'default' /></div></div>"
      ],
      "text/plain": [
       "<Result 'C:\\\\Users\\\\KOlso\\\\Documents\\\\ArcGIS\\\\Projects\\\\5571_Final_Proj\\\\5571_Final_Proj.gdb\\\\Henn_High_Qual_Bike_Sys'>"
      ]
     },
     "execution_count": 12,
     "metadata": {},
     "output_type": "execute_result"
    }
   ],
   "source": [
    "arcpy.conversion.ExportFeatures(\n",
    "    in_features=\"Hennepin_Current_Bike_Sys\",\n",
    "    out_features=r\"C:\\Users\\KOlso\\Documents\\ArcGIS\\Projects\\5571_Final_Proj\\5571_Final_Proj.gdb\\Henn_High_Qual_Bike_Sys\",\n",
    "    where_clause=\"SPEC_TYPE = 'Bike/Pedestrian Bridge' Or SPEC_TYPE = 'Bike/Pedestrian Tunnel' Or SPEC_TYPE = 'Bike-Only Trail' Or SPEC_TYPE = 'Contraflow Bike Lane' Or SPEC_TYPE = 'Cycle Track' Or SPEC_TYPE = 'Multi-Use Trail' Or SPEC_TYPE = 'On-Street Protected Bike Lane' Or SPEC_TYPE = 'Separated-Use Trail'\",\n",
    "    use_field_alias_as_name=\"NOT_USE_ALIAS\",\n",
    "    field_mapping='OBJECTID_1 \"OBJECTID\" true true false 2 Short 0 0,First,#,Hennepin_Current_Bike_Sys,OBJECTID_1,-1,-1;CITY_MUNI \"CITY_MUNI\" true true false 33 Text 0 0,First,#,Hennepin_Current_Bike_Sys,CITY_MUNI,0,32;COUNTY \"COUNTY\" true true false 8 Text 0 0,First,#,Hennepin_Current_Bike_Sys,COUNTY,0,7;LENGTH \"LENGTH\" true true false 8 Double 0 0,First,#,Hennepin_Current_Bike_Sys,LENGTH,-1,-1;WIDTH \"WIDTH\" true true false 8 Double 0 0,First,#,Hennepin_Current_Bike_Sys,WIDTH,-1,-1;PARKING \"PARKING\" true true false 3 Text 0 0,First,#,Hennepin_Current_Bike_Sys,PARKING,0,2;UNIQUE_ID \"UNIQUE_ID\" true true false 13 Text 0 0,First,#,Hennepin_Current_Bike_Sys,UNIQUE_ID,0,12;TRAILNAME \"TRAILNAME\" true true false 53 Text 0 0,First,#,Hennepin_Current_Bike_Sys,TRAILNAME,0,52;TRLSYSNAME \"TRLSYSNAME\" true true false 28 Text 0 0,First,#,Hennepin_Current_Bike_Sys,TRLSYSNAME,0,27;GEN_TYPE \"GEN_TYPE\" true true false 10 Text 0 0,First,#,Hennepin_Current_Bike_Sys,GEN_TYPE,0,9;AGENCYNAME \"AGENCYNAME\" true true false 38 Text 0 0,First,#,Hennepin_Current_Bike_Sys,AGENCYNAME,0,37;AGCY_TYPE \"AGCY_TYPE\" true true false 16 Text 0 0,First,#,Hennepin_Current_Bike_Sys,AGCY_TYPE,0,15;SURFACETYP \"SURFACETYP\" true true false 18 Text 0 0,First,#,Hennepin_Current_Bike_Sys,SURFACETYP,0,17;PARL_RD \"PARL_RD\" true true false 30 Text 0 0,First,#,Hennepin_Current_Bike_Sys,PARL_RD,0,29;ALTPARLRD \"ALTPARLRD\" true true false 29 Text 0 0,First,#,Hennepin_Current_Bike_Sys,ALTPARLRD,0,28;YEAR_OPEN \"YEAR_OPEN\" true true false 2 Short 0 0,First,#,Hennepin_Current_Bike_Sys,YEAR_OPEN,-1,-1;SIDESTREET \"SIDESTREET\" true true false 10 Text 0 0,First,#,Hennepin_Current_Bike_Sys,SIDESTREET,0,9;RBTN \"RBTN\" true true false 1 Text 0 0,First,#,Hennepin_Current_Bike_Sys,RBTN,0,254;CLRZN_TYPE \"CLRZN_TYPE\" true true false 23 Text 0 0,First,#,Hennepin_Current_Bike_Sys,CLRZN_TYPE,0,22;CLRZN_WDTH \"CLRZN_WDTH\" true true false 8 Double 0 0,First,#,Hennepin_Current_Bike_Sys,CLRZN_WDTH,-1,-1;FACILITY \"FACILITY\" true true false 8 Text 0 0,First,#,Hennepin_Current_Bike_Sys,FACILITY,0,7;SPEC_TYPE \"SPEC_TYPE\" true true false 29 Text 0 0,First,#,Hennepin_Current_Bike_Sys,SPEC_TYPE,0,28;STATUS \"STATUS\" true true false 7 Text 0 0,First,#,Hennepin_Current_Bike_Sys,STATUS,0,6;COUNTYRD_R \"COUNTYRD_R\" true true false 3 Text 0 0,First,#,Hennepin_Current_Bike_Sys,COUNTYRD_R,0,2;ShapeSTLen \"ShapeSTLen\" true true false 8 Double 0 0,First,#,Hennepin_Current_Bike_Sys,ShapeSTLen,-1,-1;Shape_Length \"Shape_Length\" false true true 8 Double 0 0,First,#,Hennepin_Current_Bike_Sys,Shape_Length,-1,-1',\n",
    "    sort_field=None\n",
    ")"
   ]
  },
  {
   "cell_type": "code",
   "execution_count": null,
   "metadata": {},
   "outputs": [],
   "source": [
    "#create feature dataset\n",
    "\n",
    "arcpy.management.CreateFeatureDataset(\n",
    "    out_dataset_path=r\"C:\\Users\\KOlso\\Documents\\ArcGIS\\Projects\\5571_Final_Proj\\5571_Final_Proj.gdb\",\n",
    "    out_name=\"Bike_analysis\",\n",
    "    spatial_reference='PROJCS[\"NAD_1983_UTM_Zone_15N\",GEOGCS[\"GCS_North_American_1983\",DATUM[\"D_North_American_1983\",SPHEROID[\"GRS_1980\",6378137.0,298.257222101]],PRIMEM[\"Greenwich\",0.0],UNIT[\"Degree\",0.0174532925199433]],PROJECTION[\"Transverse_Mercator\"],PARAMETER[\"False_Easting\",500000.0],PARAMETER[\"False_Northing\",0.0],PARAMETER[\"Central_Meridian\",-93.0],PARAMETER[\"Scale_Factor\",0.9996],PARAMETER[\"Latitude_Of_Origin\",0.0],UNIT[\"Meter\",1.0]];-5120900 -9998100 10000;-100000 10000;-100000 10000;0.001;0.001;0.001;IsHighPrecision'\n",
    ")\n",
    "\n",
    "#need to move bike sysyem feature classes into here"
   ]
  },
  {
   "cell_type": "code",
   "execution_count": null,
   "metadata": {},
   "outputs": [],
   "source": [
    "#Next steps are to use arcpy to initiate network dataset, set network properties, and conduct basics of network analysis to compare different networks"
   ]
  }
 ],
 "metadata": {
  "kernelspec": {
   "display_name": "ArcGISPro",
   "language": "Python",
   "name": "python3"
  },
  "language_info": {
   "file_extension": ".py",
   "name": "python",
   "version": "3"
  }
 },
 "nbformat": 4,
 "nbformat_minor": 2
}
