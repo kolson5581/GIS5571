{
 "cells": [
  {
   "cell_type": "code",
   "execution_count": 1,
   "metadata": {},
   "outputs": [],
   "source": [
    "from arcgis.gis import GIS\n",
    "gis = GIS(\"home\")"
   ]
  },
  {
   "cell_type": "code",
   "execution_count": 2,
   "metadata": {},
   "outputs": [],
   "source": [
    "import requests\n",
    "import os\n",
    "import zipfile\n",
    "import arcpy\n",
    "import seaborn as sns"
   ]
  },
  {
   "cell_type": "code",
   "execution_count": 6,
   "metadata": {},
   "outputs": [
    {
     "data": {
      "text/plain": [
       "<arcpy._mp.Layer object at 0x0000025FF02D9410>"
      ]
     },
     "execution_count": 6,
     "metadata": {},
     "output_type": "execute_result"
    }
   ],
   "source": [
    "#set important file paths\n",
    "gdb_path = r\"C:\\Users\\KOlso\\Documents\\ArcGIS\\Projects\\5571_Final_Proj\\5571_Final_Proj.gdb\"\n",
    "proj_folder = r\"C:\\Users\\KOlso\\Documents\\ArcGIS\\Projects\\5571_Final_Proj\"\n",
    "\n",
    "#add a Hennepin County Boundary layer for context/other functions later\n",
    "aprx = arcpy.mp.ArcGISProject(\"CURRENT\")\n",
    "map_obj = aprx.listMaps(\"Map\")[0]\n",
    "map_obj.addDataFromPath(\"https://gis.hennepin.us/arcgis/rest/services/HennepinData/BOUNDARIES/MapServer/1\")"
   ]
  },
  {
   "cell_type": "code",
   "execution_count": 7,
   "metadata": {},
   "outputs": [],
   "source": [
    "#set urls for download\n",
    "\n",
    "streets_url = \"https://hub.arcgis.com/api/v3/datasets/2c68a692df4b4e47af378a00452d85b0_0/downloads/data?format=shp&spatialRefId=26915&where=1=1\"\n",
    "bike_url = \"https://hub.arcgis.com/api/v3/datasets/938c8598f0a0439a8d612bb7894a05cc_1/downloads/data?format=shp&spatialRefId=26915&where=1=1\"\n",
    "\n",
    "streets_zip_path = fr\"{proj_folder}\\Hennepin_County_Street_Centerlines.zip\"\n",
    "bike_zip_path = fr\"{proj_folder}\\Hennepin_County_Bike_and_Pedestrian_System.zip\"\n",
    "\n",
    "streets_path = fr\"{proj_folder}\\Hennepin_County_Street_Centerlines\"\n",
    "bike_path = fr\"{proj_folder}\\Hennepin_County_Bike_and_Pedestrian_System\"\n",
    "\n",
    "#request downloads\n",
    "streets_res = requests.get(streets_url)\n",
    "bike_res = requests.get(bike_url)\n",
    "\n",
    "#save to file\n",
    "with open (streets_zip_path, \"wb\") as f:\n",
    "    f.write(streets_res.content)\n",
    "    \n",
    "with open (bike_zip_path, \"wb\") as f:\n",
    "    f.write(bike_res.content)"
   ]
  },
  {
   "cell_type": "code",
   "execution_count": 8,
   "metadata": {},
   "outputs": [],
   "source": [
    "#unzip files\n",
    "with zipfile.ZipFile(streets_zip_path, \"r\") as zip_ref:\n",
    "    zip_ref.extractall(streets_path)\n",
    "    \n",
    "with zipfile.ZipFile(bike_zip_path, \"r\") as zip_ref:\n",
    "    zip_ref.extractall(bike_path)"
   ]
  },
  {
   "cell_type": "code",
   "execution_count": 16,
   "metadata": {},
   "outputs": [
    {
     "data": {
      "text/html": [
       "<div class='gpresult'><h2>Messages</h2><div id='messages'>Start Time: Thursday, December 5, 2024 9:48:26 PM<br>Succeeded at Thursday, December 5, 2024 9:48:27 PM (Elapsed Time: 0.82 seconds)<br></div><div id = 'default' /></div></div>"
      ],
      "text/plain": [
       "<Result 'C:\\\\Users\\\\KOlso\\\\Documents\\\\ArcGIS\\\\Projects\\\\5571_Final_Proj\\\\5571_Final_Proj.gdb\\\\bike_points_100'>"
      ]
     },
     "execution_count": 16,
     "metadata": {},
     "output_type": "execute_result"
    }
   ],
   "source": [
    "#create random points that will form the basis of travel time and network distance analysis\n",
    "arcpy.management.CreateRandomPoints(\n",
    "    out_path=r\"C:\\Users\\KOlso\\Documents\\ArcGIS\\Projects\\5571_Final_Proj\\5571_Final_Proj.gdb\",\n",
    "    out_name=\"bike_points_100\",\n",
    "    constraining_feature_class=\"Hennepin County Boundary\",\n",
    "    constraining_extent=\"DEFAULT\",\n",
    "    number_of_points_or_field=100,\n",
    "    minimum_allowed_distance=\"0 Meters\",\n",
    "    create_multipoint_output=\"POINT\",\n",
    "    multipoint_size=0\n",
    ")"
   ]
  },
  {
   "cell_type": "code",
   "execution_count": 18,
   "metadata": {},
   "outputs": [
    {
     "data": {
      "text/html": [
       "<div class='gpresult'><h2>Messages</h2><div id='messages'>Start Time: Thursday, December 5, 2024 9:52:57 PM<br>Succeeded at Thursday, December 5, 2024 9:53:04 PM (Elapsed Time: 6.80 seconds)<br></div><div id = 'default' /></div></div>"
      ],
      "text/plain": [
       "<Result 'C:\\\\Users\\\\KOlso\\\\Documents\\\\ArcGIS\\\\Projects\\\\5571_Final_Proj\\\\5571_Final_Proj.gdb\\\\Hennepin_Streets_Local'>"
      ]
     },
     "execution_count": 18,
     "metadata": {},
     "output_type": "execute_result"
    }
   ],
   "source": [
    "#create a line feature class of just local streets - this will build into the low quality network\n",
    "\n",
    "arcpy.conversion.ExportFeatures(\n",
    "    in_features=\"Hennepin_County_Street_Centerlines\",\n",
    "    out_features=r\"C:\\Users\\KOlso\\Documents\\ArcGIS\\Projects\\5571_Final_Proj\\5571_Final_Proj.gdb\\Hennepin_Streets_Local\",\n",
    "    where_clause=\"ROUTE_SYS <> '01' And ROUTE_SYS <> '02' And ROUTE_SYS <> '03' And ROUTE_SYS <> '04' And ROUTE_SYS <> '07' And ROUTE_SYS <> '16' And ROUTE_SYS <> '22' And ROUTE_SYS <> '23' And ROUTE_SYS <> '41' And ST_NAME NOT LIKE '%Ramp%'\",\n",
    "    use_field_alias_as_name=\"NOT_USE_ALIAS\",\n",
    "    sort_field=None\n",
    ")"
   ]
  },
  {
   "cell_type": "code",
   "execution_count": 19,
   "metadata": {},
   "outputs": [
    {
     "data": {
      "text/html": [
       "<div class='gpresult'><h2>Messages</h2><div id='messages'>Start Time: Thursday, December 5, 2024 10:21:41 PM<br>Succeeded at Thursday, December 5, 2024 10:21:42 PM (Elapsed Time: 1.29 seconds)<br></div><div id = 'default' /></div></div>"
      ],
      "text/plain": [
       "<Result 'C:\\\\Users\\\\KOlso\\\\Documents\\\\ArcGIS\\\\Projects\\\\5571_Final_Proj\\\\5571_Final_Proj.gdb\\\\Hennepin_Bike_Sys'>"
      ]
     },
     "execution_count": 19,
     "metadata": {},
     "output_type": "execute_result"
    }
   ],
   "source": [
    "#narrow bike and ped system to just bike system\n",
    "\n",
    "arcpy.conversion.ExportFeatures(\n",
    "    in_features=\"Hennepin_County_Bike_and_Pedestrian_System\",\n",
    "    out_features=r\"C:\\Users\\KOlso\\Documents\\ArcGIS\\Projects\\5571_Final_Proj\\5571_Final_Proj.gdb\\Hennepin_Bike_Sys\",\n",
    "    where_clause=\"FACILITY = 'Bike' Or FACILITY = 'Shared'\",\n",
    "    use_field_alias_as_name=\"NOT_USE_ALIAS\",\n",
    "    sort_field=None\n",
    ")\n",
    "\n",
    "#This is new basis for bike network - all other version will build from this. This includes planned bike routes."
   ]
  },
  {
   "cell_type": "code",
   "execution_count": 3,
   "metadata": {},
   "outputs": [
    {
     "data": {
      "text/html": [
       "<div class='gpresult'><h2>Messages</h2><div id='messages'>Start Time: Monday, December 9, 2024 8:23:59 PM<br>Succeeded at Monday, December 9, 2024 8:24:00 PM (Elapsed Time: 0.96 seconds)<br></div><div id = 'default' /></div></div>"
      ],
      "text/plain": [
       "<Result 'C:\\\\Users\\\\KOlso\\\\Documents\\\\ArcGIS\\\\Projects\\\\5571_Final_Proj\\\\5571_Final_Proj.gdb\\\\Hennepin_Bike_All'>"
      ]
     },
     "execution_count": 3,
     "metadata": {},
     "output_type": "execute_result"
    }
   ],
   "source": [
    "'''\n",
    "Will create three versions of bike network :\n",
    "Only high quality bike facilities (High comfort network)\n",
    "All bike-only facilities (Medium comfort network)\n",
    "Local streets + all bike only facilities (low comfort network)\n",
    "'''\n",
    "#Create all bike facilities that are open (this eliminates planned bikeways which are included in the dataset):\n",
    "arcpy.conversion.ExportFeatures(\n",
    "    in_features=\"Hennepin_Bike_Sys\",\n",
    "    out_features=r\"C:\\Users\\KOlso\\Documents\\ArcGIS\\Projects\\5571_Final_Proj\\5571_Final_Proj.gdb\\Hennepin_Bike_Sys_All\",\n",
    "    where_clause=\"STATUS = 'Open'\",\n",
    "    use_field_alias_as_name=\"NOT_USE_ALIAS\",\n",
    "    sort_field=None\n",
    ")\n",
    "\n"
   ]
  },
  {
   "cell_type": "code",
   "execution_count": 5,
   "metadata": {},
   "outputs": [
    {
     "data": {
      "text/html": [
       "<div class='gpresult'><h2>Messages</h2><div id='messages'>Start Time: Monday, December 9, 2024 8:25:14 PM<br>Succeeded at Monday, December 9, 2024 8:25:15 PM (Elapsed Time: 1.37 seconds)<br></div><div id = 'default' /></div></div>"
      ],
      "text/plain": [
       "<Result 'C:\\\\Users\\\\KOlso\\\\Documents\\\\ArcGIS\\\\Projects\\\\5571_Final_Proj\\\\5571_Final_Proj.gdb\\\\Henn_High_Qual_Cart'>"
      ]
     },
     "execution_count": 5,
     "metadata": {},
     "output_type": "execute_result"
    }
   ],
   "source": [
    "'''\n",
    "Create high quality system - this is ONLY facilities that provide a manner of protection to riders\n",
    "Bike bridges/tunnels, bike-only trails, contraflow bike lanes, Cycle track, Multi-use trail, Separated use trail, \n",
    "on-street protected lane\n",
    "'''\n",
    "arcpy.conversion.ExportFeatures(\n",
    "    in_features=\"Hennepin_Bike_Sys_All\",\n",
    "    out_features=r\"C:\\Users\\KOlso\\Documents\\ArcGIS\\Projects\\5571_Final_Proj\\5571_Final_Proj.gdb\\Henn_High_Qual_Bike_Sys\",\n",
    "    where_clause=\"SPEC_TYPE = 'Bike/Pedestrian Bridge' Or SPEC_TYPE = 'Bike/Pedestrian Tunnel' Or SPEC_TYPE = 'Bike-Only Trail' Or SPEC_TYPE = 'Contraflow Bike Lane' Or SPEC_TYPE = 'Cycle Track' Or SPEC_TYPE = 'Multi-Use Trail' Or SPEC_TYPE = 'On-Street Protected Bike Lane' Or SPEC_TYPE = 'Separated-Use Trail'\",\n",
    "    use_field_alias_as_name=\"NOT_USE_ALIAS\",\n",
    "    sort_field=None\n",
    ")"
   ]
  },
  {
   "cell_type": "code",
   "execution_count": 23,
   "metadata": {},
   "outputs": [],
   "source": [
    "#Due to data quality issues, will need to create a new version of the bike network that fills in gaps. Use Inegrate tool\n",
    "\n",
    "with arcpy.EnvManager(XYTolerance=\"20 Meters\"):\n",
    "    arcpy.management.Integrate(\n",
    "        in_features=\"Hennepin_Bike_Sys_All #\",\n",
    "        cluster_tolerance=None\n",
    "    )\n",
    "    \n",
    "with arcpy.EnvManager(XYTolerance=\"20 Meters\"):\n",
    "    arcpy.management.Integrate(\n",
    "        in_features=\"Henn_High_Qual_Bike_Sys #\",\n",
    "        cluster_tolerance=None\n",
    "    )"
   ]
  },
  {
   "cell_type": "code",
   "execution_count": 24,
   "metadata": {},
   "outputs": [
    {
     "data": {
      "text/html": [
       "<div class='gpresult'><h2>Messages</h2><div id='messages'>Start Time: Thursday, December 5, 2024 10:31:19 PM<br>Succeeded at Thursday, December 5, 2024 10:31:21 PM (Elapsed Time: 1.24 seconds)<br></div><div id = 'default' /></div></div>"
      ],
      "text/plain": [
       "<Result 'C:\\\\Users\\\\KOlso\\\\Documents\\\\ArcGIS\\\\Projects\\\\5571_Final_Proj\\\\5571_Final_Proj.gdb\\\\Henn_Low_Qual_Bike'>"
      ]
     },
     "execution_count": 24,
     "metadata": {},
     "output_type": "execute_result"
    }
   ],
   "source": [
    "#create duplicate of current bike system to go into low-quality network\n",
    "arcpy.conversion.ExportFeatures(\n",
    "    in_features=\"Hennepin_Bike_Sys_All\",\n",
    "    out_features=r\"C:\\Users\\KOlso\\Documents\\ArcGIS\\Projects\\5571_Final_Proj\\5571_Final_Proj.gdb\\Henn_Low_Qual_Bike\",\n",
    "    where_clause=\"\",\n",
    "    use_field_alias_as_name=\"NOT_USE_ALIAS\",\n",
    "    sort_field=None\n",
    ")"
   ]
  },
  {
   "cell_type": "code",
   "execution_count": 25,
   "metadata": {},
   "outputs": [
    {
     "data": {
      "text/html": [
       "<div class='gpresult'><h2>Messages</h2><div id='messages'>Start Time: Thursday, December 5, 2024 10:31:37 PM<br>Succeeded at Thursday, December 5, 2024 10:31:39 PM (Elapsed Time: 2.37 seconds)<br></div><div id = 'default' /></div></div>"
      ],
      "text/plain": [
       "<Result 'Henn_Low_Qual_Bike'>"
      ]
     },
     "execution_count": 25,
     "metadata": {},
     "output_type": "execute_result"
    }
   ],
   "source": [
    "#snap local streets to duplicate network to fill in minor gaps, ensure networks actually connect when they go into network\n",
    "\n",
    "arcpy.edit.Snap(\n",
    "    in_features=\"Henn_Low_Qual_Bike\",\n",
    "    snap_environment=\"Street_Centerlines_Local END '25 Meters'\"\n",
    ")"
   ]
  },
  {
   "cell_type": "code",
   "execution_count": 26,
   "metadata": {},
   "outputs": [
    {
     "data": {
      "text/html": [
       "<div class='gpresult'><h2>Messages</h2><div id='messages'>Start Time: Thursday, December 5, 2024 10:38:03 PM<br>Succeeded at Thursday, December 5, 2024 10:38:03 PM (Elapsed Time: 0.32 seconds)<br></div><div id = 'default' /></div></div>"
      ],
      "text/plain": [
       "<Result 'C:\\\\Users\\\\KOlso\\\\Documents\\\\ArcGIS\\\\Projects\\\\5571_Final_Proj\\\\5571_Final_Proj.gdb\\\\Bike_analysis'>"
      ]
     },
     "execution_count": 26,
     "metadata": {},
     "output_type": "execute_result"
    }
   ],
   "source": [
    "#create feature dataset\n",
    "\n",
    "arcpy.management.CreateFeatureDataset(\n",
    "    out_dataset_path=r\"C:\\Users\\KOlso\\Documents\\ArcGIS\\Projects\\5571_Final_Proj\\5571_Final_Proj.gdb\",\n",
    "    out_name=\"Bike_analysis\",\n",
    "    spatial_reference='PROJCS[\"NAD_1983_UTM_Zone_15N\",GEOGCS[\"GCS_North_American_1983\",DATUM[\"D_North_American_1983\",SPHEROID[\"GRS_1980\",6378137.0,298.257222101]],PRIMEM[\"Greenwich\",0.0],UNIT[\"Degree\",0.0174532925199433]],PROJECTION[\"Transverse_Mercator\"],PARAMETER[\"False_Easting\",500000.0],PARAMETER[\"False_Northing\",0.0],PARAMETER[\"Central_Meridian\",-93.0],PARAMETER[\"Scale_Factor\",0.9996],PARAMETER[\"Latitude_Of_Origin\",0.0],UNIT[\"Meter\",1.0]];-5120900 -9998100 10000;-100000 10000;-100000 10000;0.001;0.001;0.001;IsHighPrecision'\n",
    ")\n",
    "\n",
    "#need to move bike sysyem feature classes into here by hand (probably)"
   ]
  },
  {
   "cell_type": "code",
   "execution_count": null,
   "metadata": {},
   "outputs": [],
   "source": [
    "#Next steps are to use arcpy to initiate network dataset, set network properties, and conduct basics of network analysis to compare different networks"
   ]
  },
  {
   "cell_type": "markdown",
   "metadata": {},
   "source": [
    "## Move the input data into the feature dataset by hand in the Catalog pane now"
   ]
  },
  {
   "cell_type": "code",
   "execution_count": 30,
   "metadata": {},
   "outputs": [
    {
     "data": {
      "text/html": [
       "<div class='gpresult'><h2>Messages</h2><div id='messages'>Start Time: Thursday, December 5, 2024 10:45:30 PM<br>Succeeded at Thursday, December 5, 2024 10:45:32 PM (Elapsed Time: 2.29 seconds)<br></div><div id = 'default' /></div></div>"
      ],
      "text/plain": [
       "<Result 'C:\\\\Users\\\\KOlso\\\\Documents\\\\ArcGIS\\\\Projects\\\\5571_Final_Proj\\\\5571_Final_Proj.gdb\\\\Bike_analysis\\\\Henn_low_qual'>"
      ]
     },
     "execution_count": 30,
     "metadata": {},
     "output_type": "execute_result"
    }
   ],
   "source": [
    "#create three Network datasets\n",
    "\n",
    "arcpy.na.CreateNetworkDataset(\n",
    "    feature_dataset=r\"C:\\Users\\KOlso\\Documents\\ArcGIS\\Projects\\5571_Final_Proj\\5571_Final_Proj.gdb\\Bike_analysis\",\n",
    "    out_name=\"Henn_high_qual\",\n",
    "    source_feature_class_names=\"Henn_High_Qual_Bike_Sys\",\n",
    "    elevation_model=\"NO_ELEVATION\"\n",
    ")\n",
    "\n",
    "arcpy.na.CreateNetworkDataset(\n",
    "    feature_dataset=r\"C:\\Users\\KOlso\\Documents\\ArcGIS\\Projects\\5571_Final_Proj\\5571_Final_Proj.gdb\\Bike_analysis\",\n",
    "    out_name=\"Henn_med_qual\",\n",
    "    source_feature_class_names=\"Hennepin_Bike_Sys_All\",\n",
    "    elevation_model=\"NO_ELEVATION\"\n",
    ")\n",
    "\n",
    "arcpy.na.CreateNetworkDataset(\n",
    "    feature_dataset=r\"C:\\Users\\KOlso\\Documents\\ArcGIS\\Projects\\5571_Final_Proj\\5571_Final_Proj.gdb\\Bike_analysis\",\n",
    "    out_name=\"Henn_low_qual\",\n",
    "    source_feature_class_names=\"Henn_Low_Qual_Bike;Hennepin_Streets_Local\",\n",
    "    elevation_model=\"NO_ELEVATION\"\n",
    ")"
   ]
  },
  {
   "cell_type": "markdown",
   "metadata": {},
   "source": [
    "#### Manually remove network datasets from Contents pane\n",
    "\n",
    "#### Set Network Properties (right click on each dataset in Catalog pane) - ensure sources and connectivity policies are correct - use any vertices for connections\n",
    "\n",
    "#### Also set Costs (!ShapeSTLen!) field is meters - can convert to whatever units from there. Time is optional but can be set too."
   ]
  },
  {
   "cell_type": "code",
   "execution_count": 31,
   "metadata": {},
   "outputs": [
    {
     "ename": "ExecuteError",
     "evalue": "Failed to execute. Parameters are not valid.\nERROR 030033: Parameter does not contain a network dataset data element.\nFailed to execute (BuildNetwork).\n",
     "output_type": "error",
     "traceback": [
      "\u001b[0;31m---------------------------------------------------------------------------\u001b[0m\n\u001b[0;31mExecuteError\u001b[0m                              Traceback (most recent call last)",
      "In  \u001b[0;34m[31]\u001b[0m:\nLine \u001b[0;34m3\u001b[0m:     arcpy.na.BuildNetwork(\u001b[37m\u001b[39;49;00m\n",
      "File \u001b[0;34mC:\\Program Files\\ArcGIS\\Pro\\Resources\\ArcPy\\arcpy\\na.py\u001b[0m, in \u001b[0;32mBuildNetwork\u001b[0m:\nLine \u001b[0;34m4577\u001b[0m:  \u001b[34mraise\u001b[39;49;00m e\u001b[37m\u001b[39;49;00m\n",
      "File \u001b[0;34mC:\\Program Files\\ArcGIS\\Pro\\Resources\\ArcPy\\arcpy\\na.py\u001b[0m, in \u001b[0;32mBuildNetwork\u001b[0m:\nLine \u001b[0;34m4574\u001b[0m:  retval = convertArcObjectToPythonObject(gp.BuildNetwork_na(*gp_fixargs((in_network_dataset, force_full_build), \u001b[34mTrue\u001b[39;49;00m)))\u001b[37m\u001b[39;49;00m\n",
      "File \u001b[0;34mC:\\Program Files\\ArcGIS\\Pro\\Resources\\ArcPy\\arcpy\\geoprocessing\\_base.py\u001b[0m, in \u001b[0;32m<lambda>\u001b[0m:\nLine \u001b[0;34m512\u001b[0m:   \u001b[34mreturn\u001b[39;49;00m \u001b[34mlambda\u001b[39;49;00m *args: val(*gp_fixargs(args, \u001b[34mTrue\u001b[39;49;00m))\u001b[37m\u001b[39;49;00m\n",
      "\u001b[0;31mExecuteError\u001b[0m: Failed to execute. Parameters are not valid.\nERROR 030033: Parameter does not contain a network dataset data element.\nFailed to execute (BuildNetwork).\n\n\u001b[0;31m---------------------------------------------------------------------------\u001b[0m"
     ]
    }
   ],
   "source": [
    "#Build all three networks\n",
    "\n",
    "arcpy.na.BuildNetwork(\n",
    "    in_network_dataset=\"Henn_High_Qual_Bike_Sys\",\n",
    "    force_full_build=\"NO_FORCE_FULL_BUILD\"\n",
    ")\n",
    "\n",
    "arcpy.na.BuildNetwork(\n",
    "    in_network_dataset=\"Henn_med_qual\",\n",
    "    force_full_build=\"NO_FORCE_FULL_BUILD\"\n",
    ")\n",
    "\n",
    "arcpy.na.BuildNetwork(\n",
    "    in_network_dataset=\"Henn_low_qual\",\n",
    "    force_full_build=\"NO_FORCE_FULL_BUILD\"\n",
    ")\n",
    "\n",
    "#Ensure that all three are working correctly and don't have any dirty areas"
   ]
  },
  {
   "cell_type": "code",
   "execution_count": null,
   "metadata": {},
   "outputs": [],
   "source": [
    "'''\n",
    "# This is probably easier to do by hand, but can be done by code if everything works right.\n",
    "# Need to update the input parameters here before running it for real.\n",
    "\n",
    "arcpy.na.MakeODCostMatrixAnalysisLayer(\n",
    "    network_data_source=r\"C:\\Users\\KOlso\\Documents\\ArcGIS\\Projects\\5571_Final_Proj\\5571_Final_Proj.gdb\\Bike_analysis\\Henn_low_qual\",\n",
    "    layer_name=\"OD Cost Matrix\",\n",
    "    travel_mode=\"\",\n",
    "    cutoff=None,\n",
    "    number_of_destinations_to_find=None,\n",
    "    time_of_day=None,\n",
    "    time_zone=\"LOCAL_TIME_AT_LOCATIONS\",\n",
    "    line_shape=\"STRAIGHT_LINES\",\n",
    "    accumulate_attributes=None,\n",
    "    ignore_invalid_locations=\"SKIP\"\n",
    ")\n",
    "\n",
    "# Add all points as both origins and destinations - we want to know the distance and time from each point to every other point\n",
    "# Snap offset set to 100 meters to ensure we can get ONTO the network from each point, search tolerance  = 1km\n",
    "\n",
    "arcpy.na.AddLocations(\n",
    "    in_network_analysis_layer=\"OD Cost Matrix\",\n",
    "    sub_layer=\"Origins\",\n",
    "    in_table=\"bike_points_100\",\n",
    "    field_mappings=\"Name OID #;TargetDestinationCount # #;CurbApproach # 0;Cutoff_Length # #\",\n",
    "    search_tolerance=\"1000 Meters\",\n",
    "    sort_field=None,\n",
    "    search_criteria=\"Hennepin_Streets_Local SHAPE;Henn_Low_Qual_Bike SHAPE;Henn_low_qual_Junctions NONE\",\n",
    "    match_type=\"MATCH_TO_CLOSEST\",\n",
    "    append=\"CLEAR\",\n",
    "    snap_to_position_along_network=\"SNAP\",\n",
    "    snap_offset=\"5 Meters\",\n",
    "    exclude_restricted_elements=\"EXCLUDE\",\n",
    "    search_query=None,\n",
    "    allow_auto_relocate=\"ALLOW\"\n",
    ")\n",
    "\n",
    "arcpy.na.AddLocations(\n",
    "    in_network_analysis_layer=\"OD Cost Matrix - Low\",\n",
    "    sub_layer=\"Destinations\",\n",
    "    in_table=\"bike_points_100\",\n",
    "    field_mappings=\"Name OID #;CurbApproach # 0\",\n",
    "    search_tolerance=\"1000 Meters\",\n",
    "    sort_field=None,\n",
    "    search_criteria=\"Hennepin_Streets_Local SHAPE;Henn_Low_Qual_Bike SHAPE;Henn_low_qual_Junctions NONE\",\n",
    "    match_type=\"MATCH_TO_CLOSEST\",\n",
    "    append=\"CLEAR\",\n",
    "    snap_to_position_along_network=\"SNAP\",\n",
    "    snap_offset=\"5 Meters\",\n",
    "    exclude_restricted_elements=\"EXCLUDE\",\n",
    "    search_query=None,\n",
    "    allow_auto_relocate=\"ALLOW\"\n",
    ")\n",
    "\n",
    "#Solve to get table of all distances and times\n",
    "\n",
    "arcpy.na.Solve(\n",
    "    in_network_analysis_layer=\"OD Cost Matrix - Low\",\n",
    "    ignore_invalids=\"SKIP\",\n",
    "    terminate_on_solve_error=\"TERMINATE\",\n",
    "    simplification_tolerance=None,\n",
    "    overrides=\"\"\n",
    ")\n",
    "\n",
    "#Next do med quality network\n",
    "arcpy.na.MakeODCostMatrixAnalysisLayer(\n",
    "    network_data_source=r\"C:\\Users\\KOlso\\Documents\\ArcGIS\\Projects\\5571_Final_Proj\\5571_Final_Proj.gdb\\Bike_analysis\\Henn_med_qual\",\n",
    "    layer_name=\"OD Cost Matrix\",\n",
    "    travel_mode=\"\",\n",
    "    cutoff=None,\n",
    "    number_of_destinations_to_find=None,\n",
    "    time_of_day=None,\n",
    "    time_zone=\"LOCAL_TIME_AT_LOCATIONS\",\n",
    "    line_shape=\"STRAIGHT_LINES\",\n",
    "    accumulate_attributes=None,\n",
    "    ignore_invalid_locations=\"SKIP\"\n",
    ")\n",
    "\n",
    "arcpy.na.AddLocations(\n",
    "    in_network_analysis_layer=\"OD Cost Matrix - Med\",\n",
    "    sub_layer=\"Origins\",\n",
    "    in_table=\"bike_points_100\",\n",
    "    field_mappings=\"Name OID #;TargetDestinationCount # #;CurbApproach # 0;Cutoff_Length # #\",\n",
    "    search_tolerance=\"1000 Meters\",\n",
    "    sort_field=None,\n",
    "    search_criteria=\"Hennepin_Bike_Sys_All SHAPE;Henn_med_qual_Junctions NONE\",\n",
    "    match_type=\"MATCH_TO_CLOSEST\",\n",
    "    append=\"APPEND\",\n",
    "    snap_to_position_along_network=\"SNAP\",\n",
    "    snap_offset=\"5 Meters\",\n",
    "    exclude_restricted_elements=\"EXCLUDE\",\n",
    "    search_query=None,\n",
    "    allow_auto_relocate=\"ALLOW\"\n",
    ")\n",
    "\n",
    "arcpy.na.AddLocations(\n",
    "    in_network_analysis_layer=\"OD Cost Matrix - Med\",\n",
    "    sub_layer=\"Destinations\",\n",
    "    in_table=\"bike_points_100\",\n",
    "    field_mappings=\"Name OID #;CurbApproach # 0\",\n",
    "    search_tolerance=\"1000 Meters\",\n",
    "    sort_field=None,\n",
    "    search_criteria=\"Hennepin_Bike_Sys_All SHAPE;Henn_med_qual_Junctions NONE\",\n",
    "    match_type=\"MATCH_TO_CLOSEST\",\n",
    "    append=\"CLEAR\",\n",
    "    snap_to_position_along_network=\"SNAP\",\n",
    "    snap_offset=\"5 Meters\",\n",
    "    exclude_restricted_elements=\"EXCLUDE\",\n",
    "    search_query=None,\n",
    "    allow_auto_relocate=\"ALLOW\"\n",
    ")\n",
    "\n",
    "arcpy.na.Solve(\n",
    "    in_network_analysis_layer=\"OD Cost Matrix - Med\",\n",
    "    ignore_invalids=\"SKIP\",\n",
    "    terminate_on_solve_error=\"TERMINATE\",\n",
    "    simplification_tolerance=None,\n",
    "    overrides=\"\"\n",
    ")\n",
    "\n",
    "#Last, make high quality network\n",
    "arcpy.na.MakeODCostMatrixAnalysisLayer(\n",
    "    network_data_source=r\"C:\\Users\\KOlso\\Documents\\ArcGIS\\Projects\\5571_Final_Proj\\5571_Final_Proj.gdb\\Bike_analysis\\Henn_high_qual\",\n",
    "    layer_name=\"OD Cost Matrix\",\n",
    "    travel_mode=\"\",\n",
    "    cutoff=None,\n",
    "    number_of_destinations_to_find=None,\n",
    "    time_of_day=None,\n",
    "    time_zone=\"LOCAL_TIME_AT_LOCATIONS\",\n",
    "    line_shape=\"STRAIGHT_LINES\",\n",
    "    accumulate_attributes=None,\n",
    "    ignore_invalid_locations=\"SKIP\"\n",
    ")\n",
    "\n",
    "arcpy.na.AddLocations(\n",
    "    in_network_analysis_layer=\"OD Cost Matrix\",\n",
    "    sub_layer=\"Origins\",\n",
    "    in_table=\"bike_points_100\",\n",
    "    field_mappings=\"Name OID #;TargetDestinationCount # #;CurbApproach # 0;Cutoff_Length # #\",\n",
    "    search_tolerance=\"1000 Meters\",\n",
    "    sort_field=None,\n",
    "    search_criteria=\"Henn_High_Qual_Bike_Sys SHAPE;Henn_high_qual_Junctions NONE\",\n",
    "    match_type=\"MATCH_TO_CLOSEST\",\n",
    "    append=\"CLEAR\",\n",
    "    snap_to_position_along_network=\"SNAP\",\n",
    "    snap_offset=\"5 Meters\",\n",
    "    exclude_restricted_elements=\"EXCLUDE\",\n",
    "    search_query=None,\n",
    "    allow_auto_relocate=\"ALLOW\"\n",
    ")\n",
    "\n",
    "arcpy.na.AddLocations(\n",
    "    in_network_analysis_layer=\"OD Cost Matrix\",\n",
    "    sub_layer=\"Destinations\",\n",
    "    in_table=\"bike_points_100\",\n",
    "    field_mappings=\"Name OID #;CurbApproach # 0\",\n",
    "    search_tolerance=\"1000 Meters\",\n",
    "    sort_field=None,\n",
    "    search_criteria=\"Henn_High_Qual_Bike_Sys SHAPE;Henn_high_qual_Junctions NONE\",\n",
    "    match_type=\"MATCH_TO_CLOSEST\",\n",
    "    append=\"CLEAR\",\n",
    "    snap_to_position_along_network=\"SNAP\",\n",
    "    snap_offset=\"5 Meters\",\n",
    "    exclude_restricted_elements=\"EXCLUDE\",\n",
    "    search_query=None,\n",
    "    allow_auto_relocate=\"ALLOW\"\n",
    ")\n",
    "\n",
    "arcpy.na.Solve(\n",
    "    in_network_analysis_layer=\"OD Cost Matrix\",\n",
    "    ignore_invalids=\"SKIP\",\n",
    "    terminate_on_solve_error=\"TERMINATE\",\n",
    "    simplification_tolerance=None,\n",
    "    overrides=\"\"\n",
    ")\n",
    "'''"
   ]
  },
  {
   "cell_type": "markdown",
   "metadata": {},
   "source": [
    "### When adding Origins/Destinations - change search tolerance to 1000m \n",
    "#### This will limit the amount of points that are connected to the network, but the default setting of 5000m is too far. What this means is that we are giving our \"cyclists\" 1km to get to the network."
   ]
  },
  {
   "cell_type": "code",
   "execution_count": null,
   "metadata": {},
   "outputs": [],
   "source": [
    "#export the tables for easier data manipulation\n",
    "#First - rename both OD Cost Matrix Analysis Layer and Lines sublayer with correct label for network quality\n",
    "\n",
    "arcpy.conversion.ExportTable(\n",
    "    in_table=r\"OD Cost Matrix - Low\\Lines - Low\",\n",
    "    out_table=r\"C:\\Users\\KOlso\\Documents\\ArcGIS\\Projects\\5571_Final_Proj\\Lines_low.csv\",\n",
    "    where_clause=\"\",\n",
    "    use_field_alias_as_name=\"NOT_USE_ALIAS\",\n",
    "    field_mapping=r'Name \"Name\" true true true 1024 Text 0 0,First,#,OD Cost Matrix - Low\\Lines - Low,Name,0,1023;OriginID \"OriginID\" true true true 4 Long 0 0,First,#,OD Cost Matrix - Low\\Lines - Low,OriginID,-1,-1;DestinationID \"DestinationID\" true true true 4 Long 0 0,First,#,OD Cost Matrix - Low\\Lines - Low,DestinationID,-1,-1;DestinationRank \"DestinationRank\" true true true 4 Long 0 0,First,#,OD Cost Matrix - Low\\Lines - Low,DestinationRank,-1,-1;Total_Length \"Total_Length\" true true true 8 Double 0 0,First,#,OD Cost Matrix - Low\\Lines - Low,Total_Length,-1,-1;Shape_Length \"Shape_Length\" false true true 8 Double 0 0,First,#,OD Cost Matrix - Low\\Lines - Low,Shape_Length,-1,-1',\n",
    "    sort_field=None\n",
    ")\n",
    "\n",
    "arcpy.conversion.ExportTable(\n",
    "    in_table=r\"OD Cost Matrix - Med\\Lines - Med\",\n",
    "    out_table=r\"C:\\Users\\KOlso\\Documents\\ArcGIS\\Projects\\5571_Final_Proj\\Lines_med.csv\",\n",
    "    where_clause=\"\",\n",
    "    use_field_alias_as_name=\"NOT_USE_ALIAS\",\n",
    "    field_mapping=r'Name \"Name\" true true true 1024 Text 0 0,First,#,OD Cost Matrix - Med\\Lines - Med,Name,0,1023;OriginID \"OriginID\" true true true 4 Long 0 0,First,#,OD Cost Matrix - Med\\Lines - Med,OriginID,-1,-1;DestinationID \"DestinationID\" true true true 4 Long 0 0,First,#,OD Cost Matrix - Med\\Lines - Med,DestinationID,-1,-1;DestinationRank \"DestinationRank\" true true true 4 Long 0 0,First,#,OD Cost Matrix - Med\\Lines - Med,DestinationRank,-1,-1;Total_Length \"Total_Length\" true true true 8 Double 0 0,First,#,OD Cost Matrix - Med\\Lines - Med,Total_Length,-1,-1;Shape_Length \"Shape_Length\" false true true 8 Double 0 0,First,#,OD Cost Matrix - Med\\Lines - Med,Shape_Length,-1,-1',\n",
    "    sort_field=None\n",
    ")\n",
    "\n",
    "arcpy.conversion.ExportTable(\n",
    "    in_table=r\"OD Cost Matrix - High\\Lines - High\",\n",
    "    out_table=r\"C:\\Users\\KOlso\\Documents\\ArcGIS\\Projects\\5571_Final_Proj\\Lines_high.csv\",\n",
    "    where_clause=\"\",\n",
    "    use_field_alias_as_name=\"NOT_USE_ALIAS\",\n",
    "    field_mapping=r'Name \"Name\" true true true 1024 Text 0 0,First,#,OD Cost Matrix - High\\Lines - High,Name,0,1023;OriginID \"OriginID\" true true true 4 Long 0 0,First,#,OD Cost Matrix - High\\Lines - High,OriginID,-1,-1;DestinationID \"DestinationID\" true true true 4 Long 0 0,First,#,OD Cost Matrix - High\\Lines - High,DestinationID,-1,-1;DestinationRank \"DestinationRank\" true true true 4 Long 0 0,First,#,OD Cost Matrix - High\\Lines - High,DestinationRank,-1,-1;Total_Length \"Total_Length\" true true true 8 Double 0 0,First,#,OD Cost Matrix - High\\Lines - High,Total_Length,-1,-1;Shape_Length \"Shape_Length\" false true true 8 Double 0 0,First,#,OD Cost Matrix - High\\Lines - High,Shape_Length,-1,-1',\n",
    "    sort_field=None\n",
    ")"
   ]
  },
  {
   "cell_type": "code",
   "execution_count": null,
   "metadata": {},
   "outputs": [],
   "source": [
    "#Next steps - calculate times for three different speed scenarios\n",
    "# Calculate number of points reachable in 30 minutes or less from each point in each scenario\n",
    "#Get score for all nine scenarios - visualize (for cartography and slides)\n",
    "\n",
    "#Combine tables into one for seaborn manipulation and visualization \n",
    "\n",
    "#See next notebook for this work."
   ]
  }
 ],
 "metadata": {
  "kernelspec": {
   "display_name": "ArcGISPro",
   "language": "Python",
   "name": "python3"
  },
  "language_info": {
   "file_extension": ".py",
   "name": "python",
   "version": "3"
  }
 },
 "nbformat": 4,
 "nbformat_minor": 2
}
